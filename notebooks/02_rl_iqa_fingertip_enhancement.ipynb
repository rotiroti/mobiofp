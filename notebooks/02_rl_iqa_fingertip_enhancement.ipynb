{
 "cells": [
  {
   "cell_type": "markdown",
   "metadata": {},
   "source": [
    "# MoBioFP - Fingertip Image Quality Assessment"
   ]
  },
  {
   "cell_type": "code",
   "execution_count": null,
   "metadata": {},
   "outputs": [],
   "source": [
    "import cv2\n",
    "import pandas as pd\n",
    "import numpy as np\n",
    "import matplotlib.pyplot as plt\n",
    "import seaborn as sns\n",
    "\n",
    "from mobiofp.iqa import gradient_magnitude\n",
    "from pathlib import Path\n",
    "\n",
    "%matplotlib inline"
   ]
  },
  {
   "cell_type": "code",
   "execution_count": null,
   "metadata": {},
   "outputs": [],
   "source": [
    "IMAGES_DIR = \"IMAGES_DIR\"\n",
    "MASKS_DIR = \"MASKS_DIR\"\n",
    "IQA_FILE = \"IQA_FILE\"\n",
    "BRISQUE_MODEL = \"../models/brisque_model_live.yml\"\n",
    "BRISQUE_RANGE = \"../models/brisque_range_live.yml\""
   ]
  },
  {
   "cell_type": "code",
   "execution_count": null,
   "metadata": {},
   "outputs": [],
   "source": [
    "def read_images(src_dir, image_names):\n",
    "    images = []\n",
    "    images_name = []\n",
    "    for image_name in image_names:\n",
    "        image = cv2.imread(f\"{src_dir}/{image_name}\", cv2.IMREAD_GRAYSCALE)\n",
    "        images.append(image)\n",
    "        images_name.append(image_name)\n",
    "\n",
    "    return images, images_name\n",
    "\n",
    "\n",
    "def plot_images(images, titles=None, rows=1, cols=None, sup_title=None, show_axis=False):\n",
    "    num_images = len(images)\n",
    "\n",
    "    if titles is None:\n",
    "        titles = [\"Image {}\".format(i + 1) for i in range(num_images)]\n",
    "\n",
    "    if cols is None:\n",
    "        cols = num_images // rows + (1 if num_images % rows else 0)\n",
    "\n",
    "    _, axes = plt.subplots(rows, cols, figsize=(cols * 4, rows * 4))\n",
    "\n",
    "    for i, ax in enumerate(axes.flat):\n",
    "        cmap = \"gray\" if len(images[i].shape) == 2 else None\n",
    "        if i < num_images:\n",
    "            ax.imshow(images[i], cmap=cmap)\n",
    "            ax.set_title(titles[i])\n",
    "            ax.axis(\"on\" if show_axis else \"off\")\n",
    "        else:\n",
    "            # Do not show the remaining subplots\n",
    "            ax.axis(\"off\")\n",
    "\n",
    "    if sup_title:\n",
    "        plt.suptitle(sup_title)\n",
    "\n",
    "    plt.tight_layout()\n",
    "    plt.show()\n",
    "\n",
    "\n",
    "def plot_dataframe(df, plot_func, title, suptitle, **kwargs):\n",
    "    fig, axes = plt.subplots(1, 4, figsize=(20, 5))\n",
    "    for col, ax in zip(df.columns[1:], axes.flat):\n",
    "        plot_func(df[col], ax=ax, **kwargs)\n",
    "        ax.set_title(f\"{title} of {col}\")\n",
    "\n",
    "    fig.suptitle(f\"{title} of all columns in the dataframe\")\n",
    "    plt.tight_layout()\n",
    "    plt.show()\n",
    "\n",
    "\n",
    "def plot_correlation_heatmap(df):\n",
    "    plt.figure(figsize=(10, 7))\n",
    "    corr = df.drop(columns=[\"Image name\"]).corr()\n",
    "    mask = np.triu(np.ones_like(corr))\n",
    "    heat = sns.heatmap(corr, annot=True, mask=mask, vmin=-1, vmax=1, cmap=\"BrBG\")\n",
    "    heat.set_title(\"Correlation Heatmap\", fontdict={\"fontsize\": 12}, pad=12)\n",
    "    plt.show()\n",
    "\n",
    "\n",
    "def remove_outliers_iqr(df):\n",
    "    for col in df.columns[1:]:\n",
    "        Q1 = df[col].quantile(0.25)\n",
    "        Q3 = df[col].quantile(0.75)\n",
    "        IQR = Q3 - Q1\n",
    "\n",
    "        # Filter out the outliers\n",
    "        return df[(df[col] >= Q1 - 1.5 * IQR) & (df[col] <= Q3 + 1.5 * IQR)]"
   ]
  },
  {
   "cell_type": "code",
   "execution_count": null,
   "metadata": {},
   "outputs": [],
   "source": [
    "df = pd.read_csv(IQA_FILE)\n",
    "df.head()"
   ]
  },
  {
   "cell_type": "code",
   "execution_count": null,
   "metadata": {},
   "outputs": [],
   "source": [
    "df.describe()"
   ]
  },
  {
   "cell_type": "code",
   "execution_count": null,
   "metadata": {},
   "outputs": [],
   "source": [
    "plot_dataframe(df, sns.histplot, \"Histogram\", \"Distribution\", kde=True)\n",
    "plot_dataframe(df, sns.boxplot, \"Boxplot\", \"Distribution\")\n",
    "plot_correlation_heatmap(df)"
   ]
  },
  {
   "cell_type": "code",
   "execution_count": null,
   "metadata": {},
   "outputs": [],
   "source": [
    "# Remove outliers using IQR\n",
    "df_no_outliers = remove_outliers_iqr(df)\n",
    "plot_dataframe(df_no_outliers, sns.histplot, \"Histogram\", \"Distribution\", kde=True)\n",
    "plot_dataframe(df_no_outliers, sns.boxplot, \"Boxplot\", \"Distribution\", showfliers=False)\n",
    "plot_correlation_heatmap(df_no_outliers)\n",
    "df_no_outliers.describe()"
   ]
  },
  {
   "cell_type": "code",
   "execution_count": null,
   "metadata": {},
   "outputs": [],
   "source": [
    "df2 = pd.DataFrame(\n",
    "    columns=[\n",
    "        \"Image name\",\n",
    "        \"Laplacian\",\n",
    "        \"Noise\",\n",
    "        \"Contrast\",\n",
    "        \"BRISQUE\",\n",
    "        \"Subject ID\",\n",
    "        \"Illumination\",\n",
    "        \"Finger ID\",\n",
    "        \"Background\",\n",
    "        \"Impression ID\",\n",
    "    ]\n",
    ")\n",
    "\n",
    "for i, row in df_no_outliers.iterrows():\n",
    "    image_name = Path(row[\"Image name\"]).stem\n",
    "    subject_id, illumination, finger_id, background, impression_id = image_name.split(\"_\")\n",
    "    df2.loc[i] = [\n",
    "        row[\"Image name\"],\n",
    "        row[\"Laplacian\"],\n",
    "        row[\"Noise\"],\n",
    "        row[\"Contrast\"],\n",
    "        row[\"BRISQUE\"],\n",
    "        subject_id,\n",
    "        illumination,\n",
    "        finger_id,\n",
    "        background,\n",
    "        impression_id,\n",
    "    ]"
   ]
  },
  {
   "cell_type": "code",
   "execution_count": null,
   "metadata": {},
   "outputs": [],
   "source": [
    "print(f\"# of gallery images: {len(df2[df2['Background'] == 'w'])}\")\n",
    "print(f\"# of probe images: {len(df2[df2['Background'] == 'n'])}\")"
   ]
  },
  {
   "cell_type": "code",
   "execution_count": null,
   "metadata": {},
   "outputs": [],
   "source": [
    "images, image_titles = read_images(IMAGES_DIR, df2[\"Image name\"])\n",
    "plot_images(images, image_titles, rows=2)"
   ]
  },
  {
   "cell_type": "code",
   "execution_count": null,
   "metadata": {},
   "outputs": [],
   "source": [
    "gradient_magnitude_images = [gradient_magnitude(image) for image in images]\n",
    "plot_images(gradient_magnitude_images, image_titles, rows=2)"
   ]
  }
 ],
 "metadata": {
  "kernelspec": {
   "display_name": "spiderman",
   "language": "python",
   "name": "python3"
  },
  "language_info": {
   "codemirror_mode": {
    "name": "ipython",
    "version": 3
   },
   "file_extension": ".py",
   "mimetype": "text/x-python",
   "name": "python",
   "nbconvert_exporter": "python",
   "pygments_lexer": "ipython3",
   "version": "3.11.8"
  }
 },
 "nbformat": 4,
 "nbformat_minor": 2
}
