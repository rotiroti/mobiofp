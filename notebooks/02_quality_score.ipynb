{
 "cells": [
  {
   "cell_type": "markdown",
   "metadata": {},
   "source": [
    "# MoBioFP - Fingertip Quality Analysis"
   ]
  },
  {
   "cell_type": "code",
   "execution_count": null,
   "metadata": {},
   "outputs": [],
   "source": [
    "import warnings\n",
    "\n",
    "# Suppress Pandas 3.0 PyArrow warning\n",
    "warnings.filterwarnings(\"ignore\")\n",
    "\n",
    "import cv2\n",
    "import imutils\n",
    "import math\n",
    "import pandas as pd\n",
    "import numpy as np\n",
    "import matplotlib.pyplot as plt\n",
    "import seaborn as sns\n",
    "\n",
    "from pathlib import Path"
   ]
  },
  {
   "cell_type": "code",
   "execution_count": null,
   "metadata": {},
   "outputs": [],
   "source": [
    "def plot_histograms(df: pd.DataFrame, suptitle: str = None):\n",
    "    _, axes = plt.subplots(1, 3, figsize=(20, 5), constrained_layout=True)\n",
    "\n",
    "    if suptitle:\n",
    "        plt.suptitle(suptitle, fontsize=16)\n",
    "\n",
    "    # Plot histogram with KDE for Sharpness\n",
    "    sns.histplot(data=df, x=\"Sharpness\", bins=20, kde=True, color=\"blue\", ax=axes[0])\n",
    "    axes[0].set_xlabel(\"Sharpness\")\n",
    "    axes[0].set_ylabel(\"Density\")\n",
    "\n",
    "    # Plot histogram with KDE for Contrast\n",
    "    sns.histplot(data=df, x=\"Contrast\", bins=20, kde=True, color=\"red\", ax=axes[1])\n",
    "    axes[1].set_xlabel(\"Contrast\")\n",
    "    axes[1].set_ylabel(\"Density\")\n",
    "\n",
    "    # Boxplot for Binary Mask Coverage\n",
    "    sns.boxplot(data=df, x=\"Binary Mask Coverage\", ax=axes[2], color=\"green\")\n",
    "    axes[2].set_xlabel(\"Binary Mask Coverage\")\n",
    "    axes[2].set_ylabel(\"Density\")\n",
    "\n",
    "    plt.show()\n",
    "\n",
    "\n",
    "def plot_invalid_masks(loss_df: pd.DataFrame, fingertip_path: str, limit: int = 10):\n",
    "    loss_df = loss_df.head(limit)\n",
    "\n",
    "    images = []\n",
    "    images_titles = []\n",
    "    for _, row in loss_df.iterrows():\n",
    "        image_file = Path(row[\"Image name\"])\n",
    "        mask_path = Path(fingertip_path) / \"masks\" / image_file.with_suffix(\".png\").name\n",
    "\n",
    "        mask = cv2.imread(str(mask_path), cv2.IMREAD_GRAYSCALE)\n",
    "        mask = imutils.resize(mask, width=128)\n",
    "        images.append(mask)\n",
    "        images_titles.append(mask_path.stem)\n",
    "\n",
    "    # Determine the number of rows and columns for the subplot grid\n",
    "    num_images = len(images)\n",
    "    num_cols = 5  # Number of columns for the grid\n",
    "    num_rows = math.ceil(num_images / num_cols)\n",
    "\n",
    "    # Create a subplot grid\n",
    "    fig, axes = plt.subplots(\n",
    "        num_rows, num_cols, figsize=(15, 3 * num_rows), constrained_layout=True\n",
    "    )\n",
    "    axes = axes.ravel()  # Flatten the axes array\n",
    "\n",
    "    # Plot the images\n",
    "    for idx, (image, title) in enumerate(zip(images, images_titles)):\n",
    "        axes[idx].imshow(image, cmap=\"gray\")\n",
    "        axes[idx].set_title(title, fontsize=10)\n",
    "        axes[idx].axis(\"off\")\n",
    "\n",
    "    # Hide the remaining subplots\n",
    "    for idx in range(num_images, num_cols * num_rows):\n",
    "        axes[idx].axis(\"off\")\n",
    "\n",
    "    plt.show()\n",
    "\n",
    "\n",
    "def data_loss(original_df: pd.DataFrame, filtered_df: pd.DataFrame) -> pd.DataFrame:\n",
    "    original_count = len(original_df)\n",
    "    filtered_count = len(filtered_df)\n",
    "    data_loss = original_count - filtered_count\n",
    "    percentage_loss = (data_loss / original_count) * 100\n",
    "\n",
    "    print(f\"Original dataset size: {original_count} images\")\n",
    "    print(f\"Filtered dataset size: {filtered_count} images\")\n",
    "    print(f\"Data loss: {data_loss} images ({percentage_loss:.2f}% loss)\")\n",
    "\n",
    "    # Extract indices of data loss images\n",
    "    data_loss_indices = original_df[~original_df.index.isin(filtered_df.index)]\n",
    "\n",
    "    # Return DataFrame containing only data loss images\n",
    "    data_loss_df = original_df.loc[data_loss_indices.index]\n",
    "\n",
    "    return data_loss_df"
   ]
  },
  {
   "cell_type": "markdown",
   "metadata": {},
   "source": [
    "## Detection Fingertip Dataset"
   ]
  },
  {
   "cell_type": "code",
   "execution_count": null,
   "metadata": {},
   "outputs": [],
   "source": [
    "DETECTION_DATASET_PATH = \"DETECTION_DATASET_PATH\"\n",
    "\n",
    "df_det = pd.read_csv(DETECTION_DATASET_PATH + \"/quality_scores.csv\")"
   ]
  },
  {
   "cell_type": "markdown",
   "metadata": {},
   "source": [
    "### Show the first 5 rows of the dataset"
   ]
  },
  {
   "cell_type": "code",
   "execution_count": null,
   "metadata": {},
   "outputs": [],
   "source": [
    "df_det.head()"
   ]
  },
  {
   "cell_type": "markdown",
   "metadata": {},
   "source": [
    "### Summary Statistics"
   ]
  },
  {
   "cell_type": "code",
   "execution_count": null,
   "metadata": {},
   "outputs": [],
   "source": [
    "df_det.describe()"
   ]
  },
  {
   "cell_type": "markdown",
   "metadata": {},
   "source": [
    "### Initial Distribution Analysis"
   ]
  },
  {
   "cell_type": "code",
   "execution_count": null,
   "metadata": {},
   "outputs": [],
   "source": [
    "plot_histograms(df_det, \"Histograms of Quality Scores after Fingertip Object Detection\")"
   ]
  },
  {
   "cell_type": "markdown",
   "metadata": {},
   "source": [
    "### Binary Mask Coverage Treshold Distribution Analysis and Data Loss"
   ]
  },
  {
   "cell_type": "code",
   "execution_count": null,
   "metadata": {},
   "outputs": [],
   "source": [
    "# Define the threshold for binary mask coverage\n",
    "threshold = 70.0\n",
    "\n",
    "# Filter the DataFrame based on the threshold\n",
    "filtered_df = df_det[(df_det[\"Binary Mask Coverage\"] >= threshold)]\n",
    "\n",
    "plot_histograms(\n",
    "    filtered_df,\n",
    "    f\"Histograms of Quality Scores after Fingertip Object Detection (Threshold: {threshold})\",\n",
    ")\n",
    "loss_df = data_loss(df_det, filtered_df)"
   ]
  },
  {
   "cell_type": "markdown",
   "metadata": {},
   "source": [
    "### Show Invalid Images"
   ]
  },
  {
   "cell_type": "code",
   "execution_count": null,
   "metadata": {},
   "outputs": [],
   "source": [
    "plot_invalid_masks(loss_df, DETECTION_DATASET_PATH)"
   ]
  },
  {
   "cell_type": "markdown",
   "metadata": {},
   "source": [
    "## Segmentation Fingertip Dataset"
   ]
  },
  {
   "cell_type": "code",
   "execution_count": null,
   "metadata": {},
   "outputs": [],
   "source": [
    "SEGMENTATION_DATASET_PATH = \"SEGMENTATION_DATASET_PATH\"\n",
    "\n",
    "df_seg = pd.read_csv(SEGMENTATION_DATASET_PATH + \"/quality_scores.csv\")"
   ]
  },
  {
   "cell_type": "markdown",
   "metadata": {},
   "source": [
    "### Show the first 5 rows of the dataset"
   ]
  },
  {
   "cell_type": "code",
   "execution_count": null,
   "metadata": {},
   "outputs": [],
   "source": [
    "df_seg.head()"
   ]
  },
  {
   "cell_type": "markdown",
   "metadata": {},
   "source": [
    "### Summary Statistics"
   ]
  },
  {
   "cell_type": "code",
   "execution_count": null,
   "metadata": {},
   "outputs": [],
   "source": [
    "df_seg.describe()"
   ]
  },
  {
   "cell_type": "markdown",
   "metadata": {},
   "source": [
    "### Initial Distribution Analysis"
   ]
  },
  {
   "cell_type": "code",
   "execution_count": null,
   "metadata": {},
   "outputs": [],
   "source": [
    "plot_histograms(\n",
    "    df_seg, f\"Histograms of Quality Scores after Fingertip Semantic Segmentation\"\n",
    ")"
   ]
  },
  {
   "cell_type": "markdown",
   "metadata": {},
   "source": [
    "### Binary Mask Coverage Treshold Distribution Analysis and Data Loss"
   ]
  },
  {
   "cell_type": "code",
   "execution_count": null,
   "metadata": {},
   "outputs": [],
   "source": [
    "# Define the threshold for binary mask coverage\n",
    "threshold = 65.0\n",
    "\n",
    "# Filter the DataFrame based on the threshold\n",
    "filtered_df = df_seg[df_seg[\"Binary Mask Coverage\"] >= threshold]\n",
    "\n",
    "plot_histograms(\n",
    "    filtered_df,\n",
    "    f\"Histograms of Quality Scores after Fingertip Semantic Segmentation (Threshold: {threshold})\",\n",
    ")\n",
    "loss_df = data_loss(df_seg, filtered_df)"
   ]
  },
  {
   "cell_type": "markdown",
   "metadata": {},
   "source": [
    "### Show invalid masks"
   ]
  },
  {
   "cell_type": "code",
   "execution_count": null,
   "metadata": {},
   "outputs": [],
   "source": [
    "plot_invalid_masks(loss_df, SEGMENTATION_DATASET_PATH)"
   ]
  }
 ],
 "metadata": {
  "kernelspec": {
   "display_name": "jolene3.10",
   "language": "python",
   "name": "python3"
  },
  "language_info": {
   "codemirror_mode": {
    "name": "ipython",
    "version": 3
   },
   "file_extension": ".py",
   "mimetype": "text/x-python",
   "name": "python",
   "nbconvert_exporter": "python",
   "pygments_lexer": "ipython3",
   "version": "3.9.18"
  }
 },
 "nbformat": 4,
 "nbformat_minor": 2
}
