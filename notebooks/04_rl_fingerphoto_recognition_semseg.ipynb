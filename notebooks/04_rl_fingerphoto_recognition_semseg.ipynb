{
 "cells": [
  {
   "cell_type": "markdown",
   "metadata": {},
   "source": [
    "# MoBioFP - Fingerphoto Recognition with Fingerip Semantic Segmentation"
   ]
  },
  {
   "cell_type": "markdown",
   "metadata": {},
   "source": [
    "## Import Python libraries"
   ]
  },
  {
   "cell_type": "code",
   "execution_count": null,
   "metadata": {},
   "outputs": [],
   "source": [
    "import cv2\n",
    "import mobiofp\n",
    "import fingerprint_enhancer\n",
    "import matplotlib.pyplot as plt\n",
    "\n",
    "from pathlib import Path"
   ]
  },
  {
   "cell_type": "markdown",
   "metadata": {},
   "source": [
    "## Define global constants"
   ]
  },
  {
   "cell_type": "code",
   "execution_count": null,
   "metadata": {},
   "outputs": [],
   "source": [
    "DATA_DIR = \"../data\"\n",
    "PROCESSED_DIR = DATA_DIR + '/processed'\n",
    "IMAGE_PATH = DATA_DIR + '/raw/samples/1_i_1_n_1.jpg'\n",
    "MODELS_DIR = \"../models\"\n",
    "MODEL_CHECKPOINT_PATH = MODELS_DIR + \"MODEL_PLACEHOLDER\""
   ]
  },
  {
   "cell_type": "markdown",
   "metadata": {},
   "source": [
    "## Load a U-Net pre-trained model"
   ]
  },
  {
   "cell_type": "code",
   "execution_count": null,
   "metadata": {},
   "outputs": [],
   "source": [
    "model = mobiofp.Segment()\n",
    "model.load(MODEL_CHECKPOINT_PATH)\n",
    "model.info()"
   ]
  },
  {
   "cell_type": "markdown",
   "metadata": {},
   "source": [
    "## Read RGB sample image"
   ]
  },
  {
   "cell_type": "code",
   "execution_count": null,
   "metadata": {},
   "outputs": [],
   "source": [
    "image = cv2.imread(IMAGE_PATH)\n",
    "image = cv2.cvtColor(image, cv2.COLOR_BGR2RGB)\n",
    "image = mobiofp.rotate_image(image, 90)\n",
    "\n",
    "mobiofp.plot_image(image, title=f\"Original Image: {image.shape}\")"
   ]
  },
  {
   "cell_type": "markdown",
   "metadata": {},
   "source": [
    "## Fingertip segmentation using U-Net pre-trained model"
   ]
  },
  {
   "cell_type": "code",
   "execution_count": null,
   "metadata": {},
   "outputs": [],
   "source": [
    "mask = model.predict(image)\n",
    "\n",
    "plt.figure(figsize=(15, 15))\n",
    "plt.subplot(1, 3, 1)\n",
    "plt.imshow(image)\n",
    "plt.title(f\"Original Image: {image.shape}\")\n",
    "plt.axis(\"off\")\n",
    "plt.subplot(1, 3, 2)\n",
    "plt.imshow(mask, cmap=\"gray\")\n",
    "plt.title(\"Predicted Fingertip Mask\")\n",
    "plt.axis(\"off\")\n",
    "plt.subplot(1, 3, 3)\n",
    "plt.imshow(image)\n",
    "plt.imshow(mask, cmap=\"jet\", alpha=0.5)\n",
    "plt.title(\"Mask Overlay\")\n",
    "plt.axis(\"off\")\n",
    "plt.tight_layout()\n",
    "plt.show()"
   ]
  },
  {
   "cell_type": "markdown",
   "metadata": {},
   "source": [
    "## Fingertip ROI Extraction"
   ]
  },
  {
   "cell_type": "code",
   "execution_count": null,
   "metadata": {},
   "outputs": [],
   "source": [
    "bbox = mobiofp.extract_roi(mask)\n",
    "mobiofp.plot_img_bbox(image, bbox, bbox_title=\"Fingertip\")\n",
    "\n",
    "fingertip = mobiofp.crop_image(image, bbox)\n",
    "fingertip_mask = mobiofp.crop_image(mask, bbox)"
   ]
  },
  {
   "cell_type": "markdown",
   "metadata": {},
   "source": [
    "## Fingertip Enhancement (Grayscale conversion, Bilateral Filter, CLAHE)"
   ]
  },
  {
   "cell_type": "code",
   "execution_count": null,
   "metadata": {},
   "outputs": [],
   "source": [
    "fingertip = cv2.cvtColor(fingertip, cv2.COLOR_RGB2GRAY)\n",
    "\n",
    "mobiofp.plot_img_hist(fingertip, title=\"Fingertip Histogram\")"
   ]
  },
  {
   "cell_type": "code",
   "execution_count": null,
   "metadata": {},
   "outputs": [],
   "source": [
    "# Normalize image\n",
    "fingertip = cv2.normalize(fingertip, None, 0, 255, cv2.NORM_MINMAX)\n",
    "\n",
    "# Apply bilateral filter\n",
    "fingertip = cv2.bilateralFilter(fingertip, 7, 50, 50)\n",
    "\n",
    "# Apply CLAHE\n",
    "fingertip = cv2.createCLAHE(clipLimit=2.0, tileGridSize=(8, 8)).apply(fingertip)\n",
    "\n",
    "mobiofp.plot_img_hist(fingertip, title=\"Bilateral Filter + CLAHE\")"
   ]
  },
  {
   "cell_type": "markdown",
   "metadata": {},
   "source": [
    "## Fingertip Binarization"
   ]
  },
  {
   "cell_type": "code",
   "execution_count": null,
   "metadata": {},
   "outputs": [],
   "source": [
    "# Remove background\n",
    "fingertip = cv2.bitwise_and(fingertip, fingertip, mask=fingertip_mask)\n",
    "\n",
    "# Apply Mean Adaptive Threshold\n",
    "binary = cv2.adaptiveThreshold(fingertip, 255, cv2.ADAPTIVE_THRESH_MEAN_C, cv2.THRESH_BINARY, 21, 2)\n",
    "\n",
    "mobiofp.plot_images([fingertip, binary], [\"Fingertip\", \"Adaptive Threshold\"], 1, 2)"
   ]
  },
  {
   "cell_type": "markdown",
   "metadata": {},
   "source": [
    "## Convert fingerphoto (fingertip) to fingerprint"
   ]
  },
  {
   "cell_type": "code",
   "execution_count": null,
   "metadata": {},
   "outputs": [],
   "source": [
    "fingerprint = mobiofp.to_fingerprint(binary)\n",
    "\n",
    "mobiofp.plot_image(fingerprint, title=\"Fingerprint\")"
   ]
  },
  {
   "cell_type": "markdown",
   "metadata": {},
   "source": [
    "## Fingerprint Enhancement"
   ]
  },
  {
   "cell_type": "code",
   "execution_count": null,
   "metadata": {},
   "outputs": [],
   "source": [
    "fingerprint = fingerprint_enhancer.enhance_Fingerprint(fingerprint)\n",
    "\n",
    "mobiofp.plot_image(fingerprint, title=\"Enhanced Fingerprint\")"
   ]
  },
  {
   "cell_type": "markdown",
   "metadata": {},
   "source": [
    "## Save Fingerprint"
   ]
  },
  {
   "cell_type": "code",
   "execution_count": null,
   "metadata": {},
   "outputs": [],
   "source": [
    "output_file_path = PROCESSED_DIR + \"/\" + Path(IMAGE_PATH).stem + \".png\"\n",
    "\n",
    "print(f\"Saving fingerprint to {output_file_path}\")\n",
    "cv2.imwrite(output_file_path, fingerprint)"
   ]
  }
 ],
 "metadata": {
  "kernelspec": {
   "display_name": "jolene",
   "language": "python",
   "name": "python3"
  },
  "language_info": {
   "codemirror_mode": {
    "name": "ipython",
    "version": 3
   },
   "file_extension": ".py",
   "mimetype": "text/x-python",
   "name": "python",
   "nbconvert_exporter": "python",
   "pygments_lexer": "ipython3",
   "version": "3.11.7"
  }
 },
 "nbformat": 4,
 "nbformat_minor": 2
}
