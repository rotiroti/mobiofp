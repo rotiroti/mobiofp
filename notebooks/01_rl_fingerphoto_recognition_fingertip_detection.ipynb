{
 "cells": [
  {
   "cell_type": "markdown",
   "metadata": {},
   "source": [
    "# MoBioFP - Fingerphoto Recognition with YOLOv8n Fingertip Extraction"
   ]
  },
  {
   "cell_type": "markdown",
   "metadata": {},
   "source": [
    "## Import Python libraries"
   ]
  },
  {
   "cell_type": "code",
   "execution_count": null,
   "metadata": {},
   "outputs": [],
   "source": [
    "import cv2\n",
    "import imutils\n",
    "import matplotlib.pyplot as plt\n",
    "\n",
    "from pathlib import Path\n",
    "from ipyfilechooser import FileChooser\n",
    "from mobiofp.detection import Detect\n",
    "from mobiofp.utils import plot_img_hist, to_fingerprint, enhance_fingerprint"
   ]
  },
  {
   "cell_type": "markdown",
   "metadata": {},
   "source": [
    "## Define Global Constants"
   ]
  },
  {
   "cell_type": "code",
   "execution_count": null,
   "metadata": {},
   "outputs": [],
   "source": [
    "DATA_DIR = \"../data/raw/samples\"\n",
    "MODEL_CHECKPOINT_PATH = \"FINGERPHOTO_256_MODEL_CHECKPOINT\"\n",
    "\n",
    "fc = FileChooser(DATA_DIR)\n",
    "display(fc)"
   ]
  },
  {
   "cell_type": "markdown",
   "metadata": {},
   "source": [
    "## Read RGB Sample Image"
   ]
  },
  {
   "cell_type": "code",
   "execution_count": null,
   "metadata": {},
   "outputs": [],
   "source": [
    "IMAGE_PATH = str(fc.selected)\n",
    "\n",
    "image = cv2.imread(IMAGE_PATH)\n",
    "image = cv2.cvtColor(image, cv2.COLOR_BGR2RGB)\n",
    "image = imutils.rotate_bound(image, 90)\n",
    "\n",
    "plt.figure(figsize=(10, 10))\n",
    "plt.imshow(image)\n",
    "plt.title(f\"Original Image: {image.shape}\")\n",
    "plt.axis(\"off\")\n",
    "plt.show()"
   ]
  },
  {
   "cell_type": "markdown",
   "metadata": {},
   "source": [
    "## Fingertip ROI detection using YOLOv8n pre-trained model"
   ]
  },
  {
   "cell_type": "code",
   "execution_count": null,
   "metadata": {},
   "outputs": [],
   "source": [
    "model = Detect(MODEL_CHECKPOINT_PATH)\n",
    "model.info()\n",
    "result = model.predict(image)\n",
    "\n",
    "plt.figure(figsize=(10, 10))\n",
    "plt.imshow(model.show(result))\n",
    "plt.title(\"Fingertip Bounding Box\")\n",
    "plt.axis(\"off\")\n",
    "plt.show()\n",
    "\n",
    "fingertip = model.roi(result, image)\n",
    "fingertip_mask = model.mask(result, image)"
   ]
  },
  {
   "cell_type": "markdown",
   "metadata": {},
   "source": [
    "## Fingertip Enhancement (Grayscale conversion, Normalize, Bilateral Filter, CLAHE)"
   ]
  },
  {
   "cell_type": "code",
   "execution_count": null,
   "metadata": {},
   "outputs": [],
   "source": [
    "# Grayscale conversion\n",
    "fingertip = cv2.cvtColor(fingertip, cv2.COLOR_RGB2GRAY)\n",
    "\n",
    "plot_img_hist(fingertip, title=\"Fingertip Histogram\")"
   ]
  },
  {
   "cell_type": "code",
   "execution_count": null,
   "metadata": {},
   "outputs": [],
   "source": [
    "# Normalize image\n",
    "fingertip = cv2.normalize(fingertip, None, 0, 255, cv2.NORM_MINMAX)\n",
    "\n",
    "# Apply bilateral filter\n",
    "fingertip = cv2.bilateralFilter(fingertip, 7, 50, 50)\n",
    "\n",
    "# Apply CLAHE\n",
    "fingertip = cv2.createCLAHE(clipLimit=2.0, tileGridSize=(8, 8)).apply(fingertip)\n",
    "\n",
    "plot_img_hist(fingertip, title=\"Bilateral Filter + CLAHE\")"
   ]
  },
  {
   "cell_type": "markdown",
   "metadata": {},
   "source": [
    "## Fingertip Binarization"
   ]
  },
  {
   "cell_type": "code",
   "execution_count": null,
   "metadata": {},
   "outputs": [],
   "source": [
    "# Remove background\n",
    "fingertip = cv2.bitwise_and(fingertip, fingertip, mask=fingertip_mask)\n",
    "\n",
    "# Apply Mean Adaptive Threshold\n",
    "binary = cv2.adaptiveThreshold(\n",
    "    fingertip, 255, cv2.ADAPTIVE_THRESH_MEAN_C, cv2.THRESH_BINARY, 21, 2\n",
    ")\n",
    "\n",
    "images = [fingertip, binary]\n",
    "titles = [\"Fingertip (no background)\", \"Threshold\"]\n",
    "\n",
    "plt.figure(figsize=(5, 5))\n",
    "for i, (img, title) in enumerate(zip(images, titles)):\n",
    "    plt.subplot(1, 2, i + 1)\n",
    "    plt.imshow(img, cmap=\"gray\")\n",
    "    plt.title(title)\n",
    "    plt.axis(\"off\")\n",
    "plt.tight_layout()\n",
    "plt.show()"
   ]
  },
  {
   "cell_type": "markdown",
   "metadata": {},
   "source": [
    "## Convert fingerphoto (fingertip) to fingerprint and enhance features using Gabor filters\n",
    "\n",
    "The function `to_fingerprint()` takes an fingertip-enhanced and converts it into a fingerprint-enhanced image.\n",
    "It does this by:\n",
    "\n",
    "- Resizing the image.\n",
    "- Calculating the local gradient of the image using Sobel filters.\n",
    "- Calculating the orientation of the ridges in the fingerprint.\n",
    "- Extracting a region of the image and smoothing it to reduce noise.\n",
    "- Calculating the x-signature of the region and finding its local maxima to estimate the ridge period.\n",
    "- Creating a bank of Gabor filters with different orientations.\n",
    "- Filtering the image with each filter in the bank.\n",
    "- Assembling the final result by taking the corresponding convolution result for each pixel based on the closest orientation in the Gabor bank.\n",
    "- Converting the result to grayscale."
   ]
  },
  {
   "cell_type": "code",
   "execution_count": null,
   "metadata": {},
   "outputs": [],
   "source": [
    "fingerprint = to_fingerprint(binary)\n",
    "fingerprint = enhance_fingerprint(fingerprint)"
   ]
  },
  {
   "cell_type": "markdown",
   "metadata": {},
   "source": [
    "## Export fingerprint-enhanced image"
   ]
  },
  {
   "cell_type": "code",
   "execution_count": null,
   "metadata": {},
   "outputs": [],
   "source": [
    "PROCESSED_DIR = \"../data/processed/detection/enhancement\"\n",
    "\n",
    "images_dir = Path(PROCESSED_DIR) / \"images\"\n",
    "images_dir.mkdir(parents=True, exist_ok=True)\n",
    "\n",
    "fingerprint_path = images_dir / Path(IMAGE_PATH).with_suffix(\".png\").name\n",
    "\n",
    "cv2.imwrite(str(fingerprint_path), fingerprint)\n",
    "\n",
    "print(f\"Enhanced fingerprint saved to {fingerprint_path}\")"
   ]
  }
 ],
 "metadata": {
  "kernelspec": {
   "display_name": "jolene",
   "language": "python",
   "name": "python3"
  },
  "language_info": {
   "codemirror_mode": {
    "name": "ipython",
    "version": 3
   },
   "file_extension": ".py",
   "mimetype": "text/x-python",
   "name": "python",
   "nbconvert_exporter": "python",
   "pygments_lexer": "ipython3",
   "version": "3.10.13"
  }
 },
 "nbformat": 4,
 "nbformat_minor": 2
}
