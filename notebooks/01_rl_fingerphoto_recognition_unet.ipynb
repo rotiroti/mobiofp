{
 "cells": [
  {
   "cell_type": "markdown",
   "metadata": {},
   "source": [
    "# MoBioFP - Fingerphoto Recognition with U-Net Fingertip Extraction"
   ]
  },
  {
   "cell_type": "markdown",
   "metadata": {},
   "source": [
    "## Import Python libraries"
   ]
  },
  {
   "cell_type": "code",
   "execution_count": null,
   "metadata": {},
   "outputs": [],
   "source": [
    "import cv2\n",
    "import imutils\n",
    "import matplotlib.pyplot as plt\n",
    "\n",
    "from mobiofp import utils, models\n",
    "from pathlib import Path\n",
    "from ipyfilechooser import FileChooser"
   ]
  },
  {
   "cell_type": "markdown",
   "metadata": {},
   "source": [
    "## Define global constants"
   ]
  },
  {
   "cell_type": "code",
   "execution_count": null,
   "metadata": {},
   "outputs": [],
   "source": [
    "DATA_DIR = \"../data/raw/samples\"\n",
    "MODEL_CHECKPOINT_PATH = \"../models/unet297-v1/arm64/weights/best.h5\"\n",
    "\n",
    "fc = FileChooser(DATA_DIR)\n",
    "display(fc)"
   ]
  },
  {
   "cell_type": "markdown",
   "metadata": {},
   "source": [
    "## Read RGB sample image"
   ]
  },
  {
   "cell_type": "code",
   "execution_count": null,
   "metadata": {},
   "outputs": [],
   "source": [
    "IMAGE_PATH = str(fc.selected)\n",
    "\n",
    "image = cv2.imread(IMAGE_PATH)\n",
    "image = cv2.cvtColor(image, cv2.COLOR_BGR2RGB)\n",
    "image = imutils.rotate_bound(image, 90)\n",
    "\n",
    "plt.figure(figsize=(10, 10))\n",
    "plt.imshow(image)\n",
    "plt.title(f\"Original Image: {image.shape}\")\n",
    "plt.axis(\"off\")\n",
    "plt.show()"
   ]
  },
  {
   "cell_type": "markdown",
   "metadata": {},
   "source": [
    "## Fingertip segmentation using U-Net pre-trained model"
   ]
  },
  {
   "cell_type": "code",
   "execution_count": null,
   "metadata": {},
   "outputs": [],
   "source": [
    "model = models.Segment()\n",
    "model.load(MODEL_CHECKPOINT_PATH)\n",
    "model.info()\n",
    "mask = model.predict(image)\n",
    "\n",
    "plt.figure(figsize=(15, 15))\n",
    "plt.subplot(1, 3, 1)\n",
    "plt.imshow(image)\n",
    "plt.title(f\"Original Image: {image.shape}\")\n",
    "plt.axis(\"off\")\n",
    "plt.subplot(1, 3, 2)\n",
    "plt.imshow(mask, cmap=\"gray\")\n",
    "plt.title(\"Predicted Fingertip Mask\")\n",
    "plt.axis(\"off\")\n",
    "plt.subplot(1, 3, 3)\n",
    "plt.imshow(image)\n",
    "plt.imshow(mask, cmap=\"jet\", alpha=0.5)\n",
    "plt.title(\"Mask Overlay\")\n",
    "plt.axis(\"off\")\n",
    "plt.tight_layout()\n",
    "plt.show()"
   ]
  },
  {
   "cell_type": "markdown",
   "metadata": {},
   "source": [
    "## Fingertip ROI extraction"
   ]
  },
  {
   "cell_type": "code",
   "execution_count": null,
   "metadata": {},
   "outputs": [],
   "source": [
    "bbox = utils.extract_roi(mask)\n",
    "bbox_image = cv2.rectangle(image.copy(), bbox, (255, 0, 0), 5)\n",
    "cv2.putText(\n",
    "    bbox_image,\n",
    "    \"Fingertip\",\n",
    "    (bbox[0], bbox[1] - 10),\n",
    "    cv2.FONT_HERSHEY_SIMPLEX,\n",
    "    2.5,\n",
    "    (255, 0, 0),\n",
    "    5,\n",
    ")\n",
    "\n",
    "plt.figure(figsize=(10, 10))\n",
    "plt.imshow(bbox_image)\n",
    "plt.title(\"Fingertip Bounding Box\")\n",
    "plt.axis(\"off\")\n",
    "plt.show()\n",
    "\n",
    "fingertip = utils.crop_image(image, bbox)\n",
    "fingertip_mask = utils.crop_image(mask, bbox)"
   ]
  },
  {
   "cell_type": "markdown",
   "metadata": {},
   "source": [
    "## Fingertip Enhancement (Grayscale conversion, Normalize, Bilateral Filter, CLAHE)"
   ]
  },
  {
   "cell_type": "code",
   "execution_count": null,
   "metadata": {},
   "outputs": [],
   "source": [
    "# Grayscale conversion\n",
    "fingertip = cv2.cvtColor(fingertip, cv2.COLOR_RGB2GRAY)\n",
    "\n",
    "utils.plot_img_hist(fingertip, title=\"Fingertip Histogram\")"
   ]
  },
  {
   "cell_type": "code",
   "execution_count": null,
   "metadata": {},
   "outputs": [],
   "source": [
    "# Normalize image\n",
    "fingertip = cv2.normalize(fingertip, None, 0, 255, cv2.NORM_MINMAX)\n",
    "\n",
    "# Apply bilateral filter\n",
    "fingertip = cv2.bilateralFilter(fingertip, 7, 50, 50)\n",
    "\n",
    "# Apply CLAHE\n",
    "fingertip = cv2.createCLAHE(clipLimit=2.0, tileGridSize=(8, 8)).apply(fingertip)\n",
    "\n",
    "utils.plot_img_hist(fingertip, title=\"Bilateral Filter + CLAHE\")"
   ]
  },
  {
   "cell_type": "markdown",
   "metadata": {},
   "source": [
    "## Fingertip Binarization"
   ]
  },
  {
   "cell_type": "code",
   "execution_count": null,
   "metadata": {},
   "outputs": [],
   "source": [
    "# Remove background\n",
    "fingertip = cv2.bitwise_and(fingertip, fingertip, mask=fingertip_mask)\n",
    "\n",
    "# Apply Mean Adaptive Threshold\n",
    "binary = cv2.adaptiveThreshold(\n",
    "    fingertip, 255, cv2.ADAPTIVE_THRESH_MEAN_C, cv2.THRESH_BINARY, 21, 2\n",
    ")\n",
    "\n",
    "images = [fingertip, binary]\n",
    "titles = [\"Fingertip (no background)\", \"Threshold\"]\n",
    "\n",
    "plt.figure(figsize=(5, 5))\n",
    "for i, (img, title) in enumerate(zip(images, titles)):\n",
    "    plt.subplot(1, 2, i + 1)\n",
    "    plt.imshow(img, cmap=\"gray\")\n",
    "    plt.title(title)\n",
    "    plt.axis(\"off\")\n",
    "plt.tight_layout()\n",
    "plt.show()"
   ]
  },
  {
   "cell_type": "markdown",
   "metadata": {},
   "source": [
    "## Convert fingerphoto (fingertip) to fingerprint and enhance features using Gabor filters\n",
    "\n",
    "The function `to_fingerprint()` takes an fingertip-enhanced and converts it into a fingerprint-enhanced image.\n",
    "It does this by:\n",
    "\n",
    "- Resizing the image.\n",
    "- Calculating the local gradient of the image using Sobel filters.\n",
    "- Calculating the orientation of the ridges in the fingerprint.\n",
    "- Extracting a region of the image and smoothing it to reduce noise.\n",
    "- Calculating the x-signature of the region and finding its local maxima to estimate the ridge period.\n",
    "- Creating a bank of Gabor filters with different orientations.\n",
    "- Filtering the image with each filter in the bank.\n",
    "- Assembling the final result by taking the corresponding convolution result for each pixel based on the closest orientation in the Gabor bank.\n",
    "- Converting the result to grayscale."
   ]
  },
  {
   "cell_type": "code",
   "execution_count": null,
   "metadata": {},
   "outputs": [],
   "source": [
    "fingerprint = utils.to_fingerprint(binary)\n",
    "fingerprint = utils.enhance_fingerprint(fingerprint)"
   ]
  },
  {
   "cell_type": "markdown",
   "metadata": {},
   "source": [
    "## Export fingerprint-enhanced image"
   ]
  },
  {
   "cell_type": "code",
   "execution_count": null,
   "metadata": {},
   "outputs": [],
   "source": [
    "PROCESSED_DIR = \"../data/processed/unet\"\n",
    "fingerprint_filename = Path(IMAGE_PATH).stem + \".png\"\n",
    "fingerprint_filepath = PROCESSED_DIR + \"/\" + fingerprint_filename\n",
    "\n",
    "print(f\"Saving fingerprint to {fingerprint_filepath}\")\n",
    "_ = cv2.imwrite(fingerprint_filepath, fingerprint)"
   ]
  }
 ],
 "metadata": {
  "kernelspec": {
   "display_name": "jolene",
   "language": "python",
   "name": "python3"
  },
  "language_info": {
   "codemirror_mode": {
    "name": "ipython",
    "version": 3
   },
   "file_extension": ".py",
   "mimetype": "text/x-python",
   "name": "python",
   "nbconvert_exporter": "python",
   "pygments_lexer": "ipython3",
   "version": "3.11.7"
  }
 },
 "nbformat": 4,
 "nbformat_minor": 2
}
