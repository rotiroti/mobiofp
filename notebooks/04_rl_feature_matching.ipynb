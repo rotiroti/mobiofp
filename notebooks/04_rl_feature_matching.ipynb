{
 "cells": [
  {
   "cell_type": "code",
   "execution_count": null,
   "metadata": {},
   "outputs": [],
   "source": [
    "import cv2\n",
    "import mobiofp\n",
    "import matplotlib.pyplot as plt"
   ]
  },
  {
   "cell_type": "code",
   "execution_count": null,
   "metadata": {},
   "outputs": [],
   "source": [
    "DATA_DIR = \"../data\"\n",
    "IMAGES_PATH = [\n",
    "    DATA_DIR + \"/processed/44_i_1_w_7_fingerprint.png\",  # Gallery\n",
    "    DATA_DIR + \"/processed/53_o_2_n_2_fingerprint.png\",  # Probe\n",
    "]"
   ]
  },
  {
   "cell_type": "code",
   "execution_count": null,
   "metadata": {},
   "outputs": [],
   "source": [
    "images = [cv2.imread(path, cv2.IMREAD_GRAYSCALE) for path in IMAGES_PATH]\n",
    "\n",
    "mobiofp.plot_images(\n",
    "    images, [\"Fingerphoto (White, Indoor)\", \"Fingerphoto (Natural, Outdoor)\"], 1, 2\n",
    ")"
   ]
  },
  {
   "cell_type": "markdown",
   "metadata": {},
   "source": [
    "## Feature Representation using [Fingerprint-Enhancement-Python](https://github.com/Utkarsh-Deshmukh/Fingerprint-Enhancement-Python)"
   ]
  },
  {
   "cell_type": "code",
   "execution_count": null,
   "metadata": {},
   "outputs": [],
   "source": [
    "terminations_wi, bifurcations_wi = mobiofp.extract_minutiae(images[0], 0)\n",
    "terminations_no, bifurcations_no = mobiofp.extract_minutiae(images[1], 0)\n",
    "\n",
    "print(\n",
    "    f\"Found {len(terminations_wi)} terminations and {len(bifurcations_wi)} bifurcations in white indoor fingerprint; total {len(terminations_wi) + len(bifurcations_wi)} minutiae\"\n",
    ")\n",
    "print(\n",
    "    f\"Found {len(terminations_no)} terminations and {len(bifurcations_no)} bifurcations in natural outdoor fingerprint; total {len(terminations_no) + len(bifurcations_no)} minutiae\"\n",
    ")"
   ]
  },
  {
   "cell_type": "code",
   "execution_count": null,
   "metadata": {},
   "outputs": [],
   "source": [
    "import numpy as np\n",
    "\n",
    "\n",
    "def match_minutiae(template1, template2):\n",
    "    # Initialize matching score\n",
    "    match_score = 0\n",
    "\n",
    "    # Iterate over minutiae points in template 1\n",
    "    for minutia1 in template1:\n",
    "        # Iterate over minutiae points in template 2\n",
    "        for minutia2 in template2:\n",
    "            # Calculate distance between minutiae points\n",
    "            distance = np.sqrt(\n",
    "                (minutia1.locX - minutia2.locX) ** 2\n",
    "                + (minutia1.locY - minutia2.locY) ** 2\n",
    "            )\n",
    "\n",
    "            # Check if the distance is within a threshold and angles are similar\n",
    "            if (\n",
    "                distance < distance_threshold\n",
    "                and abs(minutia1.Orientation[0] - minutia2.Orientation[0])\n",
    "                < angle_threshold\n",
    "            ):\n",
    "                # Increment match score\n",
    "                match_score += 1\n",
    "\n",
    "    return match_score\n",
    "\n",
    "\n",
    "# Example parameters\n",
    "distance_threshold = 10  # Adjust as per requirement\n",
    "angle_threshold = 15  # Adjust as per requirement\n",
    "\n",
    "# Assuming terminations_wi, bifurcations_wi, terminations_no, and bifurcations_no are available\n",
    "# Store minutiae points in matrix format (assuming a 2D numpy array)\n",
    "template_wi = np.concatenate((terminations_wi, bifurcations_wi), axis=0)\n",
    "template_no = np.concatenate((terminations_no, bifurcations_no), axis=0)\n",
    "\n",
    "# Perform minutiae matching\n",
    "match_score = match_minutiae(template_wi, template_no)\n",
    "\n",
    "print(\"Distance Match score:\", match_score)"
   ]
  },
  {
   "cell_type": "code",
   "execution_count": null,
   "metadata": {},
   "outputs": [],
   "source": [
    "from sklearn.metrics.pairwise import cosine_similarity\n",
    "\n",
    "\n",
    "def calculate_feature_vector(template):\n",
    "    # Initialize feature vector\n",
    "    feature_vector = []\n",
    "\n",
    "    # Iterate over minutiae points in the template\n",
    "    for minutia in template:\n",
    "        feature_vector.append([minutia.locX, minutia.locY, minutia.Orientation[0]])\n",
    "\n",
    "    return np.array(feature_vector)\n",
    "\n",
    "\n",
    "def match_minutiae(template1, template2):\n",
    "    # Calculate feature vectors\n",
    "    feature_vector1 = calculate_feature_vector(template1)\n",
    "    feature_vector2 = calculate_feature_vector(template2)\n",
    "\n",
    "    # Compute cosine similarity between feature vectors\n",
    "    similarity_matrix = cosine_similarity(feature_vector1, feature_vector2)\n",
    "\n",
    "    # Calculate match score as the sum of similarities\n",
    "    match_score = np.sum(similarity_matrix)\n",
    "\n",
    "    return match_score\n",
    "\n",
    "\n",
    "# Assuming terminations_wi, bifurcations_wi, terminations_no, and bifurcations_no are available as Minutiae objects\n",
    "template_wi = terminations_wi + bifurcations_wi\n",
    "template_no = terminations_no + bifurcations_no\n",
    "\n",
    "# Perform minutiae matching\n",
    "match_score = match_minutiae(template_wi, template_no)\n",
    "\n",
    "print(\"Cosine similarity score:\", match_score)"
   ]
  },
  {
   "cell_type": "markdown",
   "metadata": {},
   "source": [
    "## Feature Representation using ORB"
   ]
  },
  {
   "cell_type": "code",
   "execution_count": null,
   "metadata": {},
   "outputs": [],
   "source": [
    "from skimage.morphology import skeletonize\n",
    "import numpy as np\n",
    "\n",
    "orb = cv2.ORB_create(nfeatures=80)\n",
    "\n",
    "skeleton_wi = skeletonize(images[0]).astype(np.uint8) * 255\n",
    "skeleton_no = skeletonize(images[1]).astype(np.uint8) * 255\n",
    "\n",
    "mobiofp.plot_images(\n",
    "    [skeleton_wi, skeleton_no],\n",
    "    [\"Skeleton (White, Indoor)\", \"Skeleton (Natural, Outdoor)\"],\n",
    "    1,\n",
    "    2,\n",
    ")\n",
    "\n",
    "# mobiofp.plot_images([skeleton_wi, skeleton_no], ['Skeleton (White, Indoor)', 'Skeleton (Natural, Outdoor)'], 1, 2)\n",
    "\n",
    "keypoints_wi, descriptor_wi = orb.detectAndCompute(skeleton_wi, None)\n",
    "keypoints_no, descriptor_no = orb.detectAndCompute(skeleton_no, None)\n",
    "\n",
    "print(f\"Found {len(keypoints_wi)} keypoints in white indoor fingerprint\")\n",
    "print(f\"Found {len(keypoints_no)} keypoints in natural outdoor fingerprint\")"
   ]
  },
  {
   "cell_type": "code",
   "execution_count": null,
   "metadata": {},
   "outputs": [],
   "source": [
    "bf = cv2.BFMatcher(cv2.NORM_HAMMING, crossCheck=True)\n",
    "matches = sorted(\n",
    "    bf.match(descriptor_wi, descriptor_no), key=lambda match: match.distance\n",
    ")\n",
    "\n",
    "print(f\"Found {len(matches)} matches\")"
   ]
  },
  {
   "cell_type": "code",
   "execution_count": null,
   "metadata": {},
   "outputs": [],
   "source": [
    "final_img = cv2.drawMatches(\n",
    "    skeleton_wi,\n",
    "    keypoints_wi,\n",
    "    skeleton_no,\n",
    "    keypoints_no,\n",
    "    matches[:80],\n",
    "    None,\n",
    "    flags=cv2.DrawMatchesFlags_NOT_DRAW_SINGLE_POINTS,\n",
    ")\n",
    "# final_img = cv2.drawMatches(skeleton_wi, keypoints_wi, skeleton_no, keypoints_no, matches[:80], None, flags=cv2.DrawMatchesFlags_NOT_DRAW_SINGLE_POINTS)\n",
    "\n",
    "mobiofp.plot_images([final_img], [\"Matches\"], 1, 1)"
   ]
  }
 ],
 "metadata": {
  "kernelspec": {
   "display_name": "jolene",
   "language": "python",
   "name": "python3"
  },
  "language_info": {
   "codemirror_mode": {
    "name": "ipython",
    "version": 3
   },
   "file_extension": ".py",
   "mimetype": "text/x-python",
   "name": "python",
   "nbconvert_exporter": "python",
   "pygments_lexer": "ipython3",
   "version": "3.11.7"
  }
 },
 "nbformat": 4,
 "nbformat_minor": 2
}
