{
 "cells": [
  {
   "cell_type": "markdown",
   "metadata": {},
   "source": [
    "# MoBioFP - Fingerphoto Recognition (Fingertip Semantic Segmentation)"
   ]
  },
  {
   "cell_type": "code",
   "execution_count": null,
   "metadata": {},
   "outputs": [],
   "source": [
    "import cv2\n",
    "\n",
    "from mobiofp.segmentation import Segment\n",
    "from mobiofp.utils import (\n",
    "    fingertip_enhancement,\n",
    "    fingerprint_mapping,\n",
    "    fingerprint_enhancement,\n",
    "    fingertip_thresholding,\n",
    ")\n",
    "\n",
    "from shared import read_images, show_images"
   ]
  },
  {
   "cell_type": "markdown",
   "metadata": {},
   "source": [
    "## Define global constants"
   ]
  },
  {
   "cell_type": "code",
   "execution_count": null,
   "metadata": {},
   "outputs": [],
   "source": [
    "SAMPLE_DIR = \"../data/raw/samples\"\n",
    "PROCESSED_DIR = \"../data/processed/samples/segmentation\"\n",
    "\n",
    "# Assume the model is already downloaded and placed in the models directory.\n",
    "# Use one of the following models based on your system architecture.\n",
    "# MODEL_CHECKPOINT = \"../models/fingertip-seg-amd64.h5\" # For AMD64\n",
    "MODEL_CHECKPOINT = \"../models/fingertip-seg-arm64.h5\"  # For ARM64"
   ]
  },
  {
   "cell_type": "markdown",
   "metadata": {},
   "source": [
    "## Read sample images"
   ]
  },
  {
   "cell_type": "code",
   "execution_count": null,
   "metadata": {},
   "outputs": [],
   "source": [
    "images, images_titles = read_images(SAMPLE_DIR)\n",
    "show_images(images, images_titles, fig_size=15, sup_title=\"Sample Fingerphoto Images\")"
   ]
  },
  {
   "cell_type": "markdown",
   "metadata": {},
   "source": [
    "## Fingertip segmentation using U-Net pre-trained model"
   ]
  },
  {
   "cell_type": "code",
   "execution_count": null,
   "metadata": {},
   "outputs": [],
   "source": [
    "model = Segment()\n",
    "model.load(MODEL_CHECKPOINT)\n",
    "\n",
    "results = [model.predict(image) for image in images]\n",
    "\n",
    "bbox_coords = []\n",
    "fingertip_images = []\n",
    "fingertip_masks = []\n",
    "\n",
    "for image, result in zip(images, results):\n",
    "    bbox = model.extract_roi(result)\n",
    "    bbox_coords.append(bbox)\n",
    "\n",
    "    fingertip = model.crop_image(image, bbox)\n",
    "    fingertip_images.append(fingertip)\n",
    "\n",
    "    fingertip_mask = model.crop_image(result, bbox)\n",
    "    fingertip_masks.append(fingertip_mask)"
   ]
  },
  {
   "cell_type": "code",
   "execution_count": null,
   "metadata": {},
   "outputs": [],
   "source": [
    "show_images(fingertip_images, images_titles, sup_title=\"Fingertip Images\")\n",
    "show_images(fingertip_masks, images_titles, sup_title=\"Fingertip Masks\")"
   ]
  },
  {
   "cell_type": "markdown",
   "metadata": {},
   "source": [
    "## Fingertip Enhancement"
   ]
  },
  {
   "cell_type": "code",
   "execution_count": null,
   "metadata": {},
   "outputs": [],
   "source": [
    "gray_images = [cv2.cvtColor(image, cv2.COLOR_BGR2GRAY) for image in fingertip_images]\n",
    "show_images(gray_images, images_titles, cmap=\"gray\", sup_title=\"Grayscale Fingertip Images\")"
   ]
  },
  {
   "cell_type": "code",
   "execution_count": null,
   "metadata": {},
   "outputs": [],
   "source": [
    "fingertip_enhanced_images = [fingertip_enhancement(image) for image in gray_images]\n",
    "show_images(fingertip_enhanced_images, images_titles, sup_title=\"Fingertip Enhanced Images\")"
   ]
  },
  {
   "cell_type": "markdown",
   "metadata": {},
   "source": [
    "## Fingertip Binarization"
   ]
  },
  {
   "cell_type": "code",
   "execution_count": null,
   "metadata": {},
   "outputs": [],
   "source": [
    "fingertip_thresh_images = [\n",
    "    cv2.bitwise_and(image, image, mask=mask)\n",
    "    for image, mask in zip(fingertip_enhanced_images, fingertip_masks)\n",
    "]\n",
    "fingertip_thresh_images = [\n",
    "    fingertip_thresholding(image, blockSize=19) for image in fingertip_thresh_images\n",
    "]\n",
    "show_images(\n",
    "    fingertip_thresh_images, images_titles, cmap=\"gray\", sup_title=\"Fingertip Thresholded Images\"\n",
    ")"
   ]
  },
  {
   "cell_type": "markdown",
   "metadata": {},
   "source": [
    "## Fingertip to Fingerprint Conversion\n",
    "\n",
    "The function `fingerprint_mapping()` takes an fingertip-enhanced and converts it into a fingerprint image.\n",
    "It does this by:\n",
    "\n",
    "- Apply Adaptive Mean Thresholding\n",
    "- Resizing the image.\n",
    "- Calculating the local gradient of the image using Sobel filters.\n",
    "- Calculating the orientation of the ridges in the fingerprint.\n",
    "- Extracting a region of the image and smoothing it to reduce noise.\n",
    "- Calculating the x-signature of the region and finding its local maxima to estimate the ridge period.\n",
    "- Creating a bank of Gabor filters with different orientations.\n",
    "- Filtering the image with each filter in the bank.\n",
    "- Assembling the final result by taking the corresponding convolution result for each pixel based on the closest orientation in the Gabor bank."
   ]
  },
  {
   "cell_type": "code",
   "execution_count": null,
   "metadata": {},
   "outputs": [],
   "source": [
    "fingerprints, fingerprint_titles = [], []\n",
    "\n",
    "for image, title in zip(fingertip_thresh_images, images_titles):\n",
    "    fingerprint = fingerprint_mapping(image)\n",
    "    if fingerprint is not None:\n",
    "        fingerprints.append(fingerprint)\n",
    "        fingerprint_titles.append(title)\n",
    "\n",
    "show_images(fingerprints, fingerprint_titles, sup_title=\"Fingerprint Images\")"
   ]
  },
  {
   "cell_type": "code",
   "execution_count": null,
   "metadata": {},
   "outputs": [],
   "source": [
    "fingerprint_enhanced_images = [fingerprint_enhancement(fingerprint) for fingerprint in fingerprints]\n",
    "\n",
    "show_images(\n",
    "    fingerprint_enhanced_images,\n",
    "    fingerprint_titles,\n",
    "    sup_title=\"Fingerprint Enhanced Images\",\n",
    ")"
   ]
  },
  {
   "cell_type": "markdown",
   "metadata": {},
   "source": [
    "## Thinning"
   ]
  },
  {
   "cell_type": "code",
   "execution_count": null,
   "metadata": {},
   "outputs": [],
   "source": [
    "fingerprint_thinning_images = [\n",
    "    cv2.ximgproc.thinning(image) for image in fingerprint_enhanced_images\n",
    "]\n",
    "\n",
    "show_images(\n",
    "    fingerprint_thinning_images,\n",
    "    fingerprint_titles,\n",
    "    sup_title=\"Fingerprint Thinned Images\",\n",
    ")"
   ]
  }
 ],
 "metadata": {
  "kernelspec": {
   "display_name": "jolene3.9",
   "language": "python",
   "name": "python3"
  },
  "language_info": {
   "codemirror_mode": {
    "name": "ipython",
    "version": 3
   },
   "file_extension": ".py",
   "mimetype": "text/x-python",
   "name": "python",
   "nbconvert_exporter": "python",
   "pygments_lexer": "ipython3",
   "version": "3.11.8"
  }
 },
 "nbformat": 4,
 "nbformat_minor": 2
}
