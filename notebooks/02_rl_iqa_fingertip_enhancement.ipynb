{
 "cells": [
  {
   "cell_type": "code",
   "execution_count": null,
   "metadata": {},
   "outputs": [],
   "source": [
    "import cv2\n",
    "import pandas as pd\n",
    "import numpy as np\n",
    "import matplotlib.pyplot as plt\n",
    "import seaborn as sns\n",
    "\n",
    "from mobiofp.iqa import estimate_noise, laplacian_sharpness, rms_contrast, gradient_magnitude\n",
    "\n",
    "%matplotlib inline"
   ]
  },
  {
   "cell_type": "code",
   "execution_count": null,
   "metadata": {},
   "outputs": [],
   "source": [
    "RAW_IMAGE_DIR = \"RAW_IMAGE_DIR\"\n",
    "MASK_IMAGE_DIR = \"MASK_IMAGE_DIR\"\n",
    "\n",
    "# Generate by running `fpctl quality report INPUT_DIR OUTPUT_DIR`\n",
    "IQA_FILE = \"IQA_FILE\"\n",
    "BRISQUE_MODEL = \"../models/brisque_model_live.yml\"\n",
    "BRISQUE_RANGE = \"../models/brisque_range_live.yml\""
   ]
  },
  {
   "cell_type": "code",
   "execution_count": null,
   "metadata": {},
   "outputs": [],
   "source": [
    "def enh1(image, diameter=7, sigma_color=100, sigma_space=100, clip_limit=2.0, tile_grid_size=8):\n",
    "    result = cv2.bilateralFilter(image, d=diameter, sigmaColor=sigma_color, sigmaSpace=sigma_space)\n",
    "    result = cv2.createCLAHE(\n",
    "        clipLimit=clip_limit, tileGridSize=(tile_grid_size, tile_grid_size)\n",
    "    ).apply(result)\n",
    "\n",
    "    return result\n",
    "\n",
    "\n",
    "def enh2(image, clip_limit=2.0, tile_grid_size=8):\n",
    "    result = cv2.medianBlur(image, 5)\n",
    "    result = cv2.createCLAHE(\n",
    "        clipLimit=clip_limit, tileGridSize=(tile_grid_size, tile_grid_size)\n",
    "    ).apply(result)\n",
    "    blurred = cv2.GaussianBlur(result, (0, 0), 2)\n",
    "    result = cv2.addWeighted(result, 1.5, blurred, -0.5, 0)\n",
    "\n",
    "    return result\n",
    "\n",
    "\n",
    "def plot_dataframe(df, plot_func, title, suptitle, **kwargs):\n",
    "    fig, axes = plt.subplots(1, 4, figsize=(20, 5))\n",
    "    for col, ax in zip(df.columns[1:], axes.flat):\n",
    "        plot_func(df[col], ax=ax, **kwargs)\n",
    "        ax.set_title(f\"{title} of {col}\")\n",
    "\n",
    "    # Adjust layout (optional)\n",
    "    fig.suptitle(f\"{title} of all columns in the dataframe\")\n",
    "    plt.tight_layout()\n",
    "    plt.show()\n",
    "\n",
    "\n",
    "def plot_correlation_heatmap(df):\n",
    "    plt.figure(figsize=(10, 7))\n",
    "    corr = df.drop(columns=[\"Image name\"]).corr()\n",
    "    mask = np.triu(np.ones_like(corr))\n",
    "    heat = sns.heatmap(corr, annot=True, mask=mask, vmin=-1, vmax=1, cmap=\"BrBG\")\n",
    "    heat.set_title(\"Correlation Heatmap\", fontdict={\"fontsize\": 12}, pad=12)\n",
    "    plt.show()\n",
    "\n",
    "\n",
    "def remove_outliers_iqr(df):\n",
    "    for col in df.columns[1:]:\n",
    "        Q1 = df[col].quantile(0.25)\n",
    "        Q3 = df[col].quantile(0.75)\n",
    "        IQR = Q3 - Q1\n",
    "\n",
    "        # Filter out the outliers\n",
    "        return df[(df[col] >= Q1 - 1.5 * IQR) & (df[col] <= Q3 + 1.5 * IQR)]\n",
    "\n",
    "\n",
    "def filter_top_images(df, column, n=10, largest=True):\n",
    "    if largest:\n",
    "        top_n = df.nlargest(n, column)\n",
    "    else:\n",
    "        top_n = df.nsmallest(n, column)\n",
    "\n",
    "    condition = df[\"Image name\"].isin(top_n[\"Image name\"])\n",
    "\n",
    "    return df[condition]\n",
    "\n",
    "\n",
    "def read_images(src_dir, image_names):\n",
    "    images = []\n",
    "    images_name = []\n",
    "    for image_name in image_names:\n",
    "        image = cv2.imread(f\"{src_dir}/{image_name}\", cv2.IMREAD_GRAYSCALE)\n",
    "        images.append(image)\n",
    "        images_name.append(image_name)\n",
    "\n",
    "    return images, images_name\n",
    "\n",
    "\n",
    "def plot_images(images, titles=None, rows=1, cols=None, sup_title=None, show_axis=False):\n",
    "    num_images = len(images)\n",
    "\n",
    "    if titles is None:\n",
    "        titles = [\"Image {}\".format(i + 1) for i in range(num_images)]\n",
    "\n",
    "    if cols is None:\n",
    "        cols = num_images // rows + (1 if num_images % rows else 0)\n",
    "\n",
    "    _, axes = plt.subplots(rows, cols, figsize=(cols * 4, rows * 4))\n",
    "\n",
    "    for i, ax in enumerate(axes.flat):\n",
    "        cmap = \"gray\" if len(images[i].shape) == 2 else None\n",
    "        if i < num_images:\n",
    "            ax.imshow(images[i], cmap=cmap)\n",
    "            ax.set_title(titles[i])\n",
    "            ax.axis(\"on\" if show_axis else \"off\")\n",
    "        else:\n",
    "            # Do not show the remaining subplots\n",
    "            ax.axis(\"off\")\n",
    "\n",
    "    if sup_title:\n",
    "        plt.suptitle(sup_title)\n",
    "\n",
    "    plt.tight_layout()\n",
    "    plt.show()\n",
    "\n",
    "\n",
    "def compute_metrics(images, images_name):\n",
    "    brisquer = cv2.quality.QualityBRISQUE_create(BRISQUE_MODEL, BRISQUE_RANGE)\n",
    "    df = pd.DataFrame(columns=[\"Image name\", \"Laplacian\", \"Noise\", \"Contrast\", \"BRISQUE\"])\n",
    "\n",
    "    for i, (image, image_name) in enumerate(zip(images, images_name)):\n",
    "        laplacian = laplacian_sharpness(image)\n",
    "        noise = estimate_noise(image)\n",
    "        contrast = rms_contrast(image)\n",
    "        brisque = brisquer.compute(image)[0]\n",
    "\n",
    "        df.loc[i] = [image_name, laplacian, noise, contrast, brisque]\n",
    "\n",
    "    return df"
   ]
  },
  {
   "cell_type": "code",
   "execution_count": null,
   "metadata": {},
   "outputs": [],
   "source": [
    "df = pd.read_csv(IQA_FILE)\n",
    "df.head()"
   ]
  },
  {
   "cell_type": "code",
   "execution_count": null,
   "metadata": {},
   "outputs": [],
   "source": [
    "df.describe()"
   ]
  },
  {
   "cell_type": "code",
   "execution_count": null,
   "metadata": {},
   "outputs": [],
   "source": [
    "plot_dataframe(df, sns.histplot, \"Histogram\", \"Distribution\", kde=True)\n",
    "plot_dataframe(df, sns.boxplot, \"Boxplot\", \"Distribution\")\n",
    "plot_correlation_heatmap(df)"
   ]
  },
  {
   "cell_type": "markdown",
   "metadata": {},
   "source": [
    "## Remove Outliers"
   ]
  },
  {
   "cell_type": "code",
   "execution_count": null,
   "metadata": {},
   "outputs": [],
   "source": [
    "df_no_outliers = remove_outliers_iqr(df)\n",
    "plot_dataframe(df_no_outliers, sns.histplot, \"Histogram\", \"Distribution\", kde=True)\n",
    "plot_dataframe(df_no_outliers, sns.boxplot, \"Boxplot\", \"Distribution\", showfliers=False)\n",
    "plot_correlation_heatmap(df_no_outliers)\n",
    "df_no_outliers.describe()"
   ]
  },
  {
   "cell_type": "markdown",
   "metadata": {},
   "source": [
    "## Pre-Enhancement (BRISQUE Evaluation)"
   ]
  },
  {
   "cell_type": "code",
   "execution_count": null,
   "metadata": {},
   "outputs": [],
   "source": [
    "brisque_threshold = 5\n",
    "df_high_brisque = df_no_outliers[df_no_outliers[\"BRISQUE\"] <= brisque_threshold]\n",
    "df_high_brisque.describe()\n",
    "high_brisque_images, high_brisque_titles = read_images(RAW_IMAGE_DIR, df_high_brisque[\"Image name\"])\n",
    "\n",
    "print(\n",
    "    f\"# of WI images: { df_high_brisque[df_high_brisque['Image name'].str.contains('w')].shape[0]}\"\n",
    ")\n",
    "print(\n",
    "    f\"# of NO images: { df_high_brisque[df_high_brisque['Image name'].str.contains('n')].shape[0]}\"\n",
    ")\n",
    "plot_images(high_brisque_images, high_brisque_titles, rows=14, cols=8, show_axis=False)"
   ]
  },
  {
   "cell_type": "code",
   "execution_count": null,
   "metadata": {},
   "outputs": [],
   "source": [
    "brisque_magnitude_images = [gradient_magnitude(image) for image in high_brisque_images]\n",
    "plot_images(brisque_magnitude_images, high_brisque_titles, rows=14, cols=8, show_axis=False)"
   ]
  },
  {
   "cell_type": "code",
   "execution_count": null,
   "metadata": {},
   "outputs": [],
   "source": [
    "from pathlib import Path\n",
    "\n",
    "df_high_brisque_copy = df_high_brisque.copy()\n",
    "\n",
    "for index, row in df_high_brisque_copy.iterrows():\n",
    "    image_name = row[\"Image name\"]\n",
    "    subject_id, illumination, finger_id, background, impression_id = Path(image_name).stem.split(\n",
    "        \"_\"\n",
    "    )\n",
    "    df_high_brisque_copy.loc[index, \"Subject ID\"] = subject_id\n",
    "    df_high_brisque_copy.loc[index, \"Illumination\"] = illumination\n",
    "    df_high_brisque_copy.loc[index, \"Finger ID\"] = finger_id\n",
    "    df_high_brisque_copy.loc[index, \"Background\"] = background\n",
    "    df_high_brisque_copy.loc[index, \"Impression ID\"] = impression_id"
   ]
  },
  {
   "cell_type": "code",
   "execution_count": null,
   "metadata": {},
   "outputs": [],
   "source": [
    "result = df_high_brisque_copy.groupby(\n",
    "    [\"Subject ID\", \"Illumination\", \"Finger ID\", \"Background\"]\n",
    ").size()\n",
    "\n",
    "plt.figure(figsize=(15, 10))\n",
    "result.plot(kind=\"bar\")"
   ]
  },
  {
   "cell_type": "markdown",
   "metadata": {},
   "source": [
    "## Enhancement 1 (Bilateral Filter + CLAHE)"
   ]
  },
  {
   "cell_type": "code",
   "execution_count": null,
   "metadata": {},
   "outputs": [],
   "source": [
    "bil_images = [\n",
    "    cv2.bilateralFilter(image, d=7, sigmaColor=100, sigmaSpace=100) for image in high_brisque_images\n",
    "]\n",
    "bil_metrics = compute_metrics(bil_images, high_brisque_titles)\n",
    "plot_images(\n",
    "    bil_images, high_brisque_titles, rows=14, cols=8, sup_title=\"Bilateral\", show_axis=False\n",
    ")"
   ]
  },
  {
   "cell_type": "code",
   "execution_count": null,
   "metadata": {},
   "outputs": [],
   "source": [
    "bilateral_magnitude_images = [gradient_magnitude(image) for image in bil_images]\n",
    "plot_images(bilateral_magnitude_images, high_brisque_titles, rows=14, cols=8, show_axis=False)"
   ]
  },
  {
   "cell_type": "code",
   "execution_count": null,
   "metadata": {},
   "outputs": [],
   "source": [
    "clahe_images = [\n",
    "    cv2.createCLAHE(clipLimit=2.0, tileGridSize=(16, 16)).apply(image)\n",
    "    for image in high_brisque_images\n",
    "]\n",
    "clahe_metrics = compute_metrics(clahe_images, high_brisque_titles)\n",
    "plot_images(clahe_images, high_brisque_titles, rows=14, cols=8, sup_title=\"CLAHE\", show_axis=False)"
   ]
  },
  {
   "cell_type": "code",
   "execution_count": null,
   "metadata": {},
   "outputs": [],
   "source": [
    "clahe_magnitude_images = [gradient_magnitude(image) for image in clahe_images]\n",
    "plot_images(clahe_magnitude_images, high_brisque_titles, rows=14, cols=8, show_axis=False)"
   ]
  },
  {
   "cell_type": "markdown",
   "metadata": {},
   "source": [
    "## Enhacement 1 Analysis"
   ]
  },
  {
   "cell_type": "code",
   "execution_count": null,
   "metadata": {},
   "outputs": [],
   "source": [
    "plot_dataframe(df_high_brisque, sns.histplot, \"Histogram\", \"Distribution\", kde=True)\n",
    "plot_dataframe(bil_metrics, sns.histplot, \"Histogram\", \"Distribution\", kde=True)\n",
    "plot_dataframe(clahe_metrics, sns.histplot, \"Histogram\", \"Distribution\", kde=True)"
   ]
  },
  {
   "cell_type": "code",
   "execution_count": null,
   "metadata": {},
   "outputs": [],
   "source": [
    "print(df_high_brisque.describe())\n",
    "print(bil_metrics.describe())\n",
    "print(clahe_metrics.describe())"
   ]
  },
  {
   "cell_type": "markdown",
   "metadata": {},
   "source": [
    "## Mean Adaptive Thresholding "
   ]
  },
  {
   "cell_type": "code",
   "execution_count": null,
   "metadata": {},
   "outputs": [],
   "source": [
    "masks_paths = [f\"{image_name}\" for image_name in high_brisque_titles]\n",
    "masks_paths = [path.replace(\".jpg\", \".png\") for path in masks_paths]\n",
    "masks = read_images(MASK_IMAGE_DIR, masks_paths)[0]\n",
    "\n",
    "plot_images(masks, high_brisque_titles, rows=14, cols=8, sup_title=\"Masks\", show_axis=False)"
   ]
  },
  {
   "cell_type": "code",
   "execution_count": null,
   "metadata": {},
   "outputs": [],
   "source": [
    "nobg_images = [cv2.bitwise_and(image, image, mask=mask) for image, mask in zip(clahe_images, masks)]\n",
    "plot_images(\n",
    "    nobg_images, high_brisque_titles, rows=14, cols=8, sup_title=\"Thresholded\", show_axis=False\n",
    ")"
   ]
  },
  {
   "cell_type": "code",
   "execution_count": null,
   "metadata": {},
   "outputs": [],
   "source": [
    "th_images = [\n",
    "    cv2.adaptiveThreshold(image, 255, cv2.ADAPTIVE_THRESH_MEAN_C, cv2.THRESH_BINARY, 15, 2)\n",
    "    for image in nobg_images\n",
    "]\n",
    "plot_images(\n",
    "    th_images, high_brisque_titles, rows=14, cols=8, sup_title=\"Thresholded\", show_axis=False\n",
    ")"
   ]
  },
  {
   "cell_type": "markdown",
   "metadata": {},
   "source": [
    "## Enhancement 2 (Normalization + CLAHE + Gaussian Blur)"
   ]
  },
  {
   "cell_type": "code",
   "execution_count": null,
   "metadata": {},
   "outputs": [],
   "source": [
    "normalized_images = [\n",
    "    cv2.normalize(image, None, 0, 255, cv2.NORM_MINMAX) for image in high_brisque_images\n",
    "]\n",
    "normalized_metrics = compute_metrics(normalized_images, high_brisque_titles)\n",
    "plot_images(\n",
    "    normalized_images, high_brisque_titles, rows=14, cols=8, sup_title=\"Normalized\", show_axis=False\n",
    ")"
   ]
  },
  {
   "cell_type": "code",
   "execution_count": null,
   "metadata": {},
   "outputs": [],
   "source": [
    "clahe2_images = [\n",
    "    cv2.createCLAHE(clipLimit=2.0, tileGridSize=(7, 7)).apply(image) for image in normalized_images\n",
    "]\n",
    "clahe2_metrics = compute_metrics(clahe2_images, high_brisque_titles)\n",
    "plot_images(clahe2_images, high_brisque_titles, rows=14, cols=8, sup_title=\"CLAHE\", show_axis=False)"
   ]
  },
  {
   "cell_type": "code",
   "execution_count": null,
   "metadata": {},
   "outputs": [],
   "source": [
    "gaussian_images = [cv2.GaussianBlur(image, (5, 5), 0) for image in clahe2_images]\n",
    "gaussian_metrics = compute_metrics(gaussian_images, high_brisque_titles)\n",
    "plot_images(\n",
    "    gaussian_images, high_brisque_titles, rows=14, cols=8, sup_title=\"Gaussian\", show_axis=False\n",
    ")"
   ]
  },
  {
   "cell_type": "code",
   "execution_count": null,
   "metadata": {},
   "outputs": [],
   "source": [
    "plot_dataframe(normalized_metrics, sns.histplot, \"Histogram\", \"Distribution\", kde=True)\n",
    "plot_dataframe(clahe2_metrics, sns.histplot, \"Histogram\", \"Distribution\", kde=True)\n",
    "plot_dataframe(gaussian_metrics, sns.histplot, \"Histogram\", \"Distribution\", kde=True)"
   ]
  },
  {
   "cell_type": "code",
   "execution_count": null,
   "metadata": {},
   "outputs": [],
   "source": [
    "print(df_high_brisque.describe())\n",
    "print(\"Enhancement 1\")\n",
    "print(bil_metrics.describe())\n",
    "print(clahe_metrics.describe())\n",
    "print(\"Enhancement 2\")\n",
    "print(normalized_metrics.describe())\n",
    "print(clahe2_metrics.describe())\n",
    "print(gaussian_metrics.describe())"
   ]
  },
  {
   "cell_type": "markdown",
   "metadata": {},
   "source": [
    "## Mean Adaptive Thresholding"
   ]
  },
  {
   "cell_type": "code",
   "execution_count": null,
   "metadata": {},
   "outputs": [],
   "source": [
    "nobg2_images = [\n",
    "    cv2.bitwise_and(image, image, mask=mask) for image, mask in zip(gaussian_images, masks)\n",
    "]\n",
    "th2_images = [\n",
    "    cv2.adaptiveThreshold(image, 255, cv2.ADAPTIVE_THRESH_MEAN_C, cv2.THRESH_BINARY_INV, 15, 2)\n",
    "    for image in nobg2_images\n",
    "]\n",
    "plot_images(\n",
    "    th2_images, high_brisque_titles, rows=14, cols=8, sup_title=\"Thresholded\", show_axis=False\n",
    ")"
   ]
  },
  {
   "cell_type": "code",
   "execution_count": null,
   "metadata": {},
   "outputs": [],
   "source": [
    "# Apply opening to remove noise\n",
    "kernel = np.ones((3, 3), np.uint8)\n",
    "opening_images = [cv2.morphologyEx(image, cv2.MORPH_OPEN, kernel) for image in th2_images]\n",
    "plot_images(\n",
    "    opening_images, high_brisque_titles, rows=14, cols=8, sup_title=\"Opening\", show_axis=False\n",
    ")"
   ]
  },
  {
   "cell_type": "code",
   "execution_count": null,
   "metadata": {},
   "outputs": [],
   "source": [
    "# Apply dilation to fill holes\n",
    "dilated_images = [cv2.dilate(image, kernel, iterations=1) for image in opening_images]\n",
    "plot_images(\n",
    "    dilated_images, high_brisque_titles, rows=14, cols=8, sup_title=\"Dilated\", show_axis=False\n",
    ")"
   ]
  },
  {
   "cell_type": "code",
   "execution_count": null,
   "metadata": {},
   "outputs": [],
   "source": [
    "# Apply thinninig to reduce the thickness of the ridges\n",
    "skeleton_images = [cv2.ximgproc.thinning(image) for image in dilated_images]\n",
    "plot_images(\n",
    "    skeleton_images, high_brisque_titles, rows=1, cols=4, sup_title=\"Skeleton\", show_axis=False\n",
    ")"
   ]
  }
 ],
 "metadata": {
  "kernelspec": {
   "display_name": "spiderman",
   "language": "python",
   "name": "python3"
  },
  "language_info": {
   "codemirror_mode": {
    "name": "ipython",
    "version": 3
   },
   "file_extension": ".py",
   "mimetype": "text/x-python",
   "name": "python",
   "nbconvert_exporter": "python",
   "pygments_lexer": "ipython3",
   "version": "3.11.8"
  }
 },
 "nbformat": 4,
 "nbformat_minor": 2
}
