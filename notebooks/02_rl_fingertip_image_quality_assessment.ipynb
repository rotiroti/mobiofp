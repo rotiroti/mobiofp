{
 "cells": [
  {
   "cell_type": "markdown",
   "metadata": {},
   "source": [
    "# MoBioFP - Fingertip Image Quality Assessment"
   ]
  },
  {
   "cell_type": "code",
   "execution_count": null,
   "metadata": {},
   "outputs": [],
   "source": [
    "# TODO: Import only the necessary functions from shared.py\n",
    "from shared import *"
   ]
  },
  {
   "cell_type": "markdown",
   "metadata": {},
   "source": [
    "## Define global constants"
   ]
  },
  {
   "cell_type": "code",
   "execution_count": null,
   "metadata": {},
   "outputs": [],
   "source": [
    "DATA_PROCESSED_SAMPLES_DIR = \"../data/processed/samples\"\n",
    "\n",
    "# \"/detection\" or \"/segmentation\"\n",
    "STRATEGY_DIR = \"/detection\"\n",
    "\n",
    "QUALITY_SCORE_FILE = DATA_PROCESSED_SAMPLES_DIR + STRATEGY_DIR + \"/quality_scores.csv\"\n",
    "FINGERTIP_IMAGES_DIR = DATA_PROCESSED_SAMPLES_DIR + STRATEGY_DIR + \"/fingertips\"\n",
    "FINGERTIP_MASKS_DIR = DATA_PROCESSED_SAMPLES_DIR + STRATEGY_DIR + \"/masks\""
   ]
  },
  {
   "cell_type": "markdown",
   "metadata": {},
   "source": [
    "## Read Fingertip Images and Masks"
   ]
  },
  {
   "cell_type": "code",
   "execution_count": null,
   "metadata": {},
   "outputs": [],
   "source": [
    "images, images_titles = read_images(FINGERTIP_IMAGES_DIR, file_extesion=\"jpg\")\n",
    "masks, masks_titles = read_images(FINGERTIP_MASKS_DIR, file_extesion=\"png\", grayscale=True)\n",
    "\n",
    "show_images(images, images_titles, sup_title=\"Fingertip images\")\n",
    "show_images(masks, masks_titles, sup_title=\"Fingertip masks\")"
   ]
  },
  {
   "cell_type": "markdown",
   "metadata": {},
   "source": [
    "## Read Quality Score CSV"
   ]
  },
  {
   "cell_type": "code",
   "execution_count": null,
   "metadata": {},
   "outputs": [],
   "source": [
    "df = pd.read_csv(QUALITY_SCORE_FILE)"
   ]
  },
  {
   "cell_type": "markdown",
   "metadata": {},
   "source": [
    "## Show the first 5 rows of the dataset"
   ]
  },
  {
   "cell_type": "code",
   "execution_count": null,
   "metadata": {},
   "outputs": [],
   "source": [
    "df.head()\n",
    "\n",
    "# Remove file extension from the filename\n",
    "df[\"Image name\"] = df[\"Image name\"].str.replace(\".jpg\", \"\")"
   ]
  },
  {
   "cell_type": "markdown",
   "metadata": {},
   "source": [
    "## Summary Statistics"
   ]
  },
  {
   "cell_type": "code",
   "execution_count": null,
   "metadata": {},
   "outputs": [],
   "source": [
    "df.describe()"
   ]
  },
  {
   "cell_type": "markdown",
   "metadata": {},
   "source": [
    "## Initial Distribution Analysis"
   ]
  },
  {
   "cell_type": "code",
   "execution_count": null,
   "metadata": {},
   "outputs": [],
   "source": [
    "show_distributions(df)\n",
    "show_boxplots(df)"
   ]
  },
  {
   "cell_type": "markdown",
   "metadata": {},
   "source": [
    "## Filter fingertip images/masks"
   ]
  },
  {
   "cell_type": "code",
   "execution_count": null,
   "metadata": {},
   "outputs": [],
   "source": [
    "# Define the threshold for binary mask coverage\n",
    "sharpness_thresh = df[\"Sharpness\"].median()\n",
    "binary_mask_coverage_thresh = df[\"Binary Mask Coverage\"].median()\n",
    "\n",
    "# Filter the DataFrame based on the threshold\n",
    "filtered_df = df[\n",
    "    (df[\"Sharpness\"] >= sharpness_thresh)\n",
    "    & (df[\"Binary Mask Coverage\"] >= binary_mask_coverage_thresh)\n",
    "]\n",
    "\n",
    "show_distributions(filtered_df)\n",
    "show_boxplots(filtered_df)\n",
    "\n",
    "# Compute the data loss\n",
    "df_loss = data_loss(df, filtered_df)"
   ]
  },
  {
   "cell_type": "markdown",
   "metadata": {},
   "source": [
    "## Show filtered images/masks"
   ]
  },
  {
   "cell_type": "code",
   "execution_count": null,
   "metadata": {},
   "outputs": [],
   "source": [
    "filtered_titles = filtered_df[\"Image name\"].values\n",
    "filtered_images = [images[images_titles.index(title)] for title in filtered_titles]\n",
    "filtered_masks = [masks[masks_titles.index(title)] for title in filtered_titles]\n",
    "\n",
    "show_images(filtered_images, filtered_titles, sup_title=\"Fingertip images\")\n",
    "show_images(filtered_masks, filtered_titles, sup_title=\"Fingertip masks\")"
   ]
  }
 ],
 "metadata": {
  "kernelspec": {
   "display_name": "jolene3.10",
   "language": "python",
   "name": "python3"
  },
  "language_info": {
   "codemirror_mode": {
    "name": "ipython",
    "version": 3
   },
   "file_extension": ".py",
   "mimetype": "text/x-python",
   "name": "python",
   "nbconvert_exporter": "python",
   "pygments_lexer": "ipython3",
   "version": "3.9.0"
  }
 },
 "nbformat": 4,
 "nbformat_minor": 2
}
