{
 "cells": [
  {
   "cell_type": "markdown",
   "metadata": {},
   "source": [
    "# MoBioFP - Enhancement"
   ]
  },
  {
   "cell_type": "markdown",
   "metadata": {},
   "source": [
    "## Import Python libraries"
   ]
  },
  {
   "cell_type": "code",
   "execution_count": null,
   "metadata": {},
   "outputs": [],
   "source": [
    "import cv2\n",
    "import mobiofp\n",
    "import fingerprint_enhancer\n",
    "\n",
    "from pathlib import Path"
   ]
  },
  {
   "cell_type": "markdown",
   "metadata": {},
   "source": [
    "## Define global constants"
   ]
  },
  {
   "cell_type": "code",
   "execution_count": null,
   "metadata": {},
   "outputs": [],
   "source": [
    "DATA_DIR = \"../data\"\n",
    "PROCESSED_DIR = DATA_DIR + '/processed'\n",
    "IMAGE_PATH = PROCESSED_DIR + '/segmentation/images/1_i_1_n_1.jpg'\n",
    "MASK_PATH = PROCESSED_DIR + '/segmentation/labels/1_i_1_n_1.png'"
   ]
  },
  {
   "cell_type": "markdown",
   "metadata": {},
   "source": [
    "## Load fingetip image and mask (Grayscale)"
   ]
  },
  {
   "cell_type": "code",
   "execution_count": null,
   "metadata": {},
   "outputs": [],
   "source": [
    "image = cv2.imread(IMAGE_PATH, cv2.IMREAD_GRAYSCALE)\n",
    "mask = cv2.imread(MASK_PATH, cv2.IMREAD_GRAYSCALE)\n",
    "\n",
    "mobiofp.plot_img_hist(image)"
   ]
  },
  {
   "cell_type": "markdown",
   "metadata": {},
   "source": [
    "## Background Removal"
   ]
  },
  {
   "cell_type": "code",
   "execution_count": null,
   "metadata": {},
   "outputs": [],
   "source": [
    "image = cv2.bitwise_and(image, image, mask=mask)\n",
    "\n",
    "mobiofp.plot_image(image, \"Background Removal\")"
   ]
  },
  {
   "cell_type": "markdown",
   "metadata": {},
   "source": [
    "## Bilateral Filter + CLAHE (Contrast Limited Adaptive Histogram Equalization)"
   ]
  },
  {
   "cell_type": "code",
   "execution_count": null,
   "metadata": {},
   "outputs": [],
   "source": [
    "# Apply bilateral filter\n",
    "image = cv2.bilateralFilter(image, 7, 50, 50)\n",
    "\n",
    "# Apply CLAHE\n",
    "image = cv2.createCLAHE(clipLimit=2.0, tileGridSize=(8, 8)).apply(image)\n",
    "\n",
    "mobiofp.plot_image(image, \"Bilateral Filter + CLAHE\")"
   ]
  },
  {
   "cell_type": "markdown",
   "metadata": {},
   "source": [
    "## Binarization"
   ]
  },
  {
   "cell_type": "code",
   "execution_count": null,
   "metadata": {},
   "outputs": [],
   "source": [
    "# Apply Mean Adaptive Thresholding\n",
    "thresh = cv2.adaptiveThreshold(image, 255, cv2.ADAPTIVE_THRESH_GAUSSIAN_C, cv2.THRESH_BINARY, 11, 2)\n",
    "\n",
    "mobiofp.plot_images([image, thresh], ['Original', 'Adaptive Thresholding'], 1, 2)"
   ]
  },
  {
   "cell_type": "markdown",
   "metadata": {},
   "source": [
    "## From fingerphoto to fingerprint (compute Gabor filters orientation)"
   ]
  },
  {
   "cell_type": "code",
   "execution_count": null,
   "metadata": {},
   "outputs": [],
   "source": [
    "fingerprint = mobiofp.to_fingerprint(thresh, 128)\n",
    "\n",
    "mobiofp.plot_image(fingerprint, \"Fingerprint\")"
   ]
  },
  {
   "cell_type": "markdown",
   "metadata": {},
   "source": [
    "## Fingerprint enhancement"
   ]
  },
  {
   "cell_type": "code",
   "execution_count": null,
   "metadata": {},
   "outputs": [],
   "source": [
    "fingerprint = fingerprint_enhancer.enhance_Fingerprint(fingerprint)\n",
    "\n",
    "mobiofp.plot_image(fingerprint, \"Enhanced Fingerprint\")"
   ]
  },
  {
   "cell_type": "markdown",
   "metadata": {},
   "source": [
    "## Export enhanced fingerprint"
   ]
  },
  {
   "cell_type": "code",
   "execution_count": null,
   "metadata": {},
   "outputs": [],
   "source": [
    "input_file_name = Path(IMAGE_PATH).name\n",
    "\n",
    "fingertip_enhanced_path = PROCESSED_DIR + \"/enhancement/\" + input_file_name\n",
    "fingerprint_enhanced_path = PROCESSED_DIR + \"/enhancement/\" + input_file_name\n",
    "\n",
    "mobiofp.save_images(image, enhanced_path)"
   ]
  }
 ],
 "metadata": {
  "kernelspec": {
   "display_name": "jolene",
   "language": "python",
   "name": "python3"
  },
  "language_info": {
   "codemirror_mode": {
    "name": "ipython",
    "version": 3
   },
   "file_extension": ".py",
   "mimetype": "text/x-python",
   "name": "python",
   "nbconvert_exporter": "python",
   "pygments_lexer": "ipython3",
   "version": "3.11.7"
  }
 },
 "nbformat": 4,
 "nbformat_minor": 2
}
