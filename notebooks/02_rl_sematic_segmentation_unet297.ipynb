{
  "cells": [
    {
      "cell_type": "markdown",
      "metadata": {
        "id": "yBEftWRceKaG"
      },
      "source": [
        "# MoBioFP - Semantic Segmentation (U-Net)"
      ]
    },
    {
      "cell_type": "markdown",
      "metadata": {
        "id": "Xp_kOh3OeKaK"
      },
      "source": [
        "## Set Environment Variables"
      ]
    },
    {
      "cell_type": "code",
      "execution_count": null,
      "metadata": {
        "colab": {
          "base_uri": "https://localhost:8080/"
        },
        "id": "I9nj5B4KeKaK",
        "outputId": "92bbe805-22ad-4af6-d139-dbc58e6b2f08"
      },
      "outputs": [],
      "source": [
        "%env SM_FRAMEWORK=tf.keras"
      ]
    },
    {
      "cell_type": "markdown",
      "metadata": {
        "id": "bczrRfu4eKaK"
      },
      "source": [
        "## Import Python Libraries"
      ]
    },
    {
      "cell_type": "code",
      "execution_count": null,
      "metadata": {
        "id": "UGPgEZF5eKaK"
      },
      "outputs": [],
      "source": [
        "import cv2\n",
        "import os\n",
        "import math\n",
        "import imutils\n",
        "import numpy as np\n",
        "import matplotlib.pyplot as plt\n",
        "import matplotlib.patches as patches\n",
        "import fingerprint_enhancer\n",
        "import fingerprint_feature_extractor\n",
        "\n",
        "from rembg import remove\n",
        "# from google.colab import drive\n",
        "from keras.models import Model\n",
        "from keras.layers import (\n",
        "    Input,\n",
        "    Conv2D,\n",
        "    MaxPooling2D,\n",
        "    concatenate,\n",
        "    Conv2DTranspose,\n",
        "    BatchNormalization,\n",
        "    Activation,\n",
        "    Dropout,\n",
        ")"
      ]
    },
    {
      "cell_type": "markdown",
      "metadata": {
        "id": "S6fXqHZleKaK"
      },
      "source": [
        "## Global Costants"
      ]
    },
    {
      "cell_type": "code",
      "execution_count": null,
      "metadata": {
        "id": "s9ZAETlSeKaL"
      },
      "outputs": [],
      "source": [
        "DATA_DIR = \"../data\"\n",
        "PROCESSED_DIR = DATA_DIR + '/processed'\n",
        "# IMAGE_PATH = DATA_DIR + '/raw/samples/4_i_1_w_4.jpg'\n",
        "# IMAGE_PATH = DATA_DIR + '/raw/samples/37_i_1_n_7.jpg'\n",
        "# IMAGE_PATH = DATA_DIR + '/raw/samples/1_i_1_n_1.jpg'\n",
        "IMAGE_PATH = DATA_DIR + '/raw/samples/1_o_1_n_1.jpg'\n",
        "# IMAGE_PATH = DATA_DIR + '/raw/samples/1_i_1_w_1.jpg'\n",
        "# IMAGE_PATH = DATA_DIR + '/raw/samples/1_o_1_w_1.jpg'\n",
        "MODELS_DIR = \"../models\"\n",
        "MODEL_CHECKPOINT_PATH = MODELS_DIR + \"/unet297-v1/arm64/weights/best.h5\""
      ]
    },
    {
      "cell_type": "markdown",
      "metadata": {
        "id": "Xl2_9Me9eKaL"
      },
      "source": [
        "## Define Custom U-Net Model"
      ]
    },
    {
      "cell_type": "code",
      "execution_count": null,
      "metadata": {
        "id": "tA7sd-V6eKaL"
      },
      "outputs": [],
      "source": [
        "# Function to create convolutional block\n",
        "def conv_block(tensor, nfilters, size=3, padding=\"same\", initializer=\"he_normal\"):\n",
        "    x = Conv2D(\n",
        "        filters=nfilters,\n",
        "        kernel_size=(size, size),\n",
        "        padding=padding,\n",
        "        kernel_initializer=initializer,\n",
        "    )(tensor)\n",
        "    x = BatchNormalization()(x)\n",
        "    x = Activation(\"relu\")(x)\n",
        "    x = Conv2D(\n",
        "        filters=nfilters,\n",
        "        kernel_size=(size, size),\n",
        "        padding=padding,\n",
        "        kernel_initializer=initializer,\n",
        "    )(x)\n",
        "    x = BatchNormalization()(x)\n",
        "    x = Activation(\"relu\")(x)\n",
        "\n",
        "    return x\n",
        "\n",
        "# Function to create encoder block\n",
        "def encoder_block(inputs, n_filters):\n",
        "    conv = conv_block(inputs, n_filters)\n",
        "    pool = MaxPooling2D(pool_size=(2, 2))(conv)\n",
        "\n",
        "    return pool, conv\n",
        "\n",
        "# Function to create decoder block\n",
        "def decoder_block(inputs, conv_output, n_filters):\n",
        "    deconv = Conv2DTranspose(\n",
        "        n_filters, kernel_size=(3, 3), strides=(2, 2), padding=\"same\"\n",
        "    )(inputs)\n",
        "    concat = concatenate([deconv, conv_output], axis=3)\n",
        "    conv = conv_block(concat, n_filters)\n",
        "\n",
        "    return conv\n",
        "\n",
        "# Function to create U-Net model\n",
        "def create_unet(input_shape, n_filters=64):\n",
        "    inputs = Input(shape=input_shape, name=\"image_input\")\n",
        "    p1, c1 = encoder_block(inputs, n_filters)\n",
        "    p2, c2 = encoder_block(p1, n_filters * 2)\n",
        "    p3, c3 = encoder_block(p2, n_filters * 4)\n",
        "    p4, c4 = encoder_block(p3, n_filters * 8)\n",
        "    p4 = Dropout(0.5)(p4)\n",
        "    c5 = conv_block(p4, n_filters * 16)\n",
        "    c5 = Dropout(0.5)(c5)\n",
        "    d6 = decoder_block(c5, c4, n_filters * 8)\n",
        "    d6 = Dropout(0.5)(d6)\n",
        "    d7 = decoder_block(d6, c3, n_filters * 4)\n",
        "    d7 = Dropout(0.5)(d7)\n",
        "    d8 = decoder_block(d7, c2, n_filters * 2)\n",
        "    d9 = decoder_block(d8, c1, n_filters)\n",
        "    outputs = Conv2D(filters=1, kernel_size=(1, 1), activation=\"sigmoid\")(d9)\n",
        "    model = Model(inputs=inputs, outputs=outputs, name=\"Unet\")\n",
        "\n",
        "    return model"
      ]
    },
    {
      "cell_type": "markdown",
      "metadata": {
        "id": "f7hwWZHLeKaL"
      },
      "source": [
        "## Load a U-Net pre-trained Model"
      ]
    },
    {
      "cell_type": "code",
      "execution_count": null,
      "metadata": {
        "colab": {
          "base_uri": "https://localhost:8080/"
        },
        "id": "4IIAsfU7f9HT",
        "outputId": "c9148dbe-9f02-409e-fe12-0017dc14ee5f"
      },
      "outputs": [],
      "source": [
        "model = create_unet(input_shape=(256, 256, 3), n_filters=64)\n",
        "model.summary()\n",
        "model.load_weights(MODEL_CHECKPOINT_PATH)"
      ]
    },
    {
      "cell_type": "markdown",
      "metadata": {
        "id": "Y-jr_2vQeKaM"
      },
      "source": [
        "## Read Random Input Image"
      ]
    },
    {
      "cell_type": "code",
      "execution_count": null,
      "metadata": {
        "colab": {
          "base_uri": "https://localhost:8080/",
          "height": 657
        },
        "id": "NmWgb82_eKaM",
        "outputId": "8469423e-f4c5-4660-dfca-9155dd64131a"
      },
      "outputs": [],
      "source": [
        "\n",
        "image = cv2.imread(IMAGE_PATH)\n",
        "image = cv2.cvtColor(image, cv2.COLOR_BGR2RGB)\n",
        "\n",
        "plt.figure(figsize=(10, 10))\n",
        "plt.imshow(image)\n",
        "plt.title(f'Original image: {IMAGE_PATH}')\n",
        "plt.axis('off')\n",
        "plt.show()"
      ]
    },
    {
      "cell_type": "markdown",
      "metadata": {
        "id": "Ynhg_qzGeKaM"
      },
      "source": [
        "## Fingertip Semantic Segmentation"
      ]
    },
    {
      "cell_type": "code",
      "execution_count": null,
      "metadata": {
        "colab": {
          "base_uri": "https://localhost:8080/",
          "height": 410
        },
        "id": "Ogxm_M_qeKaM",
        "outputId": "db8e19dc-a1f2-47c2-bbfc-b458cddc3f10"
      },
      "outputs": [],
      "source": [
        "# Preprocess image\n",
        "image_resized = cv2.resize(image, (256, 256), interpolation=cv2.INTER_AREA) / 255.0\n",
        "image_input = np.expand_dims(image_resized, axis=0)\n",
        "\n",
        "# Predict the mask\n",
        "predicted_mask = (model.predict(image_input) > 0.5).astype(np.uint8).reshape(256, 256)\n",
        "\n",
        "# Resize the mask to the original image size\n",
        "predicted_mask = cv2.resize(predicted_mask, (image.shape[1], image.shape[0]), interpolation=cv2.INTER_LINEAR)\n",
        "\n",
        "plt.figure(figsize=(15, 15))\n",
        "plt.subplot(1, 3, 1)\n",
        "plt.imshow(image)\n",
        "plt.title(\"Original Image\")\n",
        "plt.axis(\"off\")\n",
        "plt.subplot(1, 3, 2)\n",
        "plt.imshow(predicted_mask, cmap=\"gray\")\n",
        "plt.title(\"Predicted Fingertip Mask\")\n",
        "plt.axis(\"off\")\n",
        "plt.subplot(1, 3, 3)\n",
        "plt.imshow(image)\n",
        "plt.imshow(predicted_mask, cmap=\"jet\", alpha=0.5)\n",
        "plt.title(\"Original Image with Predicted Mask\")\n",
        "plt.tight_layout()\n",
        "plt.show()"
      ]
    },
    {
      "cell_type": "markdown",
      "metadata": {
        "id": "19L0ZbH0eKaM"
      },
      "source": [
        "## Extract Fingertip ROI"
      ]
    },
    {
      "cell_type": "code",
      "execution_count": null,
      "metadata": {
        "id": "ROWxk7UveKaM"
      },
      "outputs": [],
      "source": [
        "def extract_roi(mask: np.ndarray, factor: float = 1.10) -> tuple[int, int, int, int]:\n",
        "    \"\"\"\n",
        "    Extract ROI from a binary mask\n",
        "    Args:\n",
        "        mask: Binary mask.\n",
        "        factor: Factor to increase the size of the ROI.\n",
        "    Returns:\n",
        "        Tuple with four coordinates representing the bounding box rectangle.\n",
        "    \"\"\"\n",
        "    cnts, _ = cv2.findContours(\n",
        "        mask.astype(np.uint8), cv2.RETR_EXTERNAL, cv2.CHAIN_APPROX_SIMPLE\n",
        "    )\n",
        "    cnt = max(cnts, key=cv2.contourArea)\n",
        "    x, y, w, h = cv2.boundingRect(cnt)\n",
        "\n",
        "    # Adjust the size of the ROI\n",
        "    w_new = int(w * factor)\n",
        "    h_new = int(h * factor)\n",
        "    x_new = max(0, x - (w_new - w) // 2)\n",
        "    y_new = max(0, y - (h_new - h) // 2)\n",
        "\n",
        "    return (x_new, y_new, w_new, h_new)"
      ]
    },
    {
      "cell_type": "markdown",
      "metadata": {
        "id": "4lOKn4aTeKaN"
      },
      "source": [
        "# Extract ROI (fingertip)\n"
      ]
    },
    {
      "cell_type": "code",
      "execution_count": null,
      "metadata": {
        "colab": {
          "base_uri": "https://localhost:8080/",
          "height": 519
        },
        "id": "xjULdQ5rgyVz",
        "outputId": "c593a7fd-eddd-4a82-c983-7d81af23d690"
      },
      "outputs": [],
      "source": [
        "(x, y, w, h) = extract_roi(predicted_mask)\n",
        "\n",
        "# Create a rectangle patch for the ROI\n",
        "roi_rect = patches.Rectangle((x, y), w, h, linewidth=1, edgecolor=\"r\", facecolor=\"none\")\n",
        "\n",
        "fig, axes = plt.subplots(1, 2, figsize=(20, 7))\n",
        "axes[0].imshow(image)\n",
        "axes[0].add_patch(roi_rect)\n",
        "axes[0].set_title(\"Original Image: Fingertip ROI\")\n",
        "\n",
        "# Crop the ROI from the original image\n",
        "fingertip = image[y : y + h, x : x + w]\n",
        "axes[1].imshow(fingertip)\n",
        "axes[1].set_title(\"Segmented Fingertip\")\n",
        "\n",
        "plt.tight_layout()\n",
        "plt.show()"
      ]
    },
    {
      "cell_type": "markdown",
      "metadata": {
        "id": "j6VZOFhmeKaN"
      },
      "source": [
        "## Fingertip Background Removal"
      ]
    },
    {
      "cell_type": "code",
      "execution_count": null,
      "metadata": {
        "colab": {
          "base_uri": "https://localhost:8080/",
          "height": 275
        },
        "id": "3pR_zfB8eKaN",
        "outputId": "007539ef-afef-4488-c73b-2f7caa0c2634"
      },
      "outputs": [],
      "source": [
        "fingertip_mask = remove(fingertip, only_mask=True)\n",
        "kernel = cv2.getStructuringElement(cv2.MORPH_RECT, (3, 3))\n",
        "fingertip_mask = cv2.morphologyEx(fingertip_mask, cv2.MORPH_OPEN, kernel, iterations=2)\n",
        "fingertip_mask = cv2.GaussianBlur(fingertip_mask, (5, 5), sigmaX=2, sigmaY=2, borderType=cv2.BORDER_DEFAULT)\n",
        "fingertip_mask = np.where(fingertip_mask < 127, 0, 255).astype(np.uint8)\n",
        "\n",
        "plt.figure(figsize=(10, 10))\n",
        "plt.subplot(1, 3, 1)\n",
        "plt.imshow(fingertip, cmap=\"gray\")\n",
        "plt.title('Original fingertip')\n",
        "plt.axis('off')\n",
        "plt.subplot(1, 3, 2)\n",
        "plt.imshow(fingertip_mask, cmap=\"gray\")\n",
        "plt.title(\"Binary Mask: Baground Removal\")\n",
        "plt.axis('off')\n",
        "plt.subplot(1, 3, 3)\n",
        "plt.imshow(cv2.bitwise_and(fingertip, fingertip, mask=fingertip_mask))\n",
        "plt.title(\"Fingertip with background removed\")\n",
        "plt.axis('off')\n",
        "plt.tight_layout()\n",
        "plt.show()\n",
        "\n",
        "fingertip = cv2.bitwise_and(fingertip, fingertip, mask=fingertip_mask)"
      ]
    },
    {
      "cell_type": "markdown",
      "metadata": {
        "id": "Cx3fVZG1eKaN"
      },
      "source": [
        "## Fingertip Orientation"
      ]
    },
    {
      "cell_type": "code",
      "execution_count": null,
      "metadata": {
        "colab": {
          "base_uri": "https://localhost:8080/",
          "height": 488
        },
        "id": "ZsyfLexeeKaN",
        "outputId": "1d9ed47d-4719-435f-d1d6-4bd7f176c050"
      },
      "outputs": [],
      "source": [
        "# Convert the fingertip to grayscale\n",
        "fingertip_gray = cv2.cvtColor(fingertip, cv2.COLOR_RGB2GRAY)\n",
        "\n",
        "plt.figure(figsize=(15, 5))\n",
        "plt.subplot(1, 2, 1)\n",
        "plt.imshow(fingertip_gray, cmap=\"gray\")\n",
        "plt.title(\"Fingertip Grayscale:\" + str(fingertip_gray.shape))\n",
        "\n",
        "plt.subplot(1, 2, 2)\n",
        "hist = cv2.calcHist([fingertip_gray], [0], None, [256], [0, 256])\n",
        "hist /= hist.sum()\n",
        "plt.plot(hist)\n",
        "plt.xlim([0, 256])\n",
        "plt.title(\"Histogram\")\n",
        "plt.xlabel(\"Pixel Value\")\n",
        "plt.ylabel(\"Frequency\")\n",
        "plt.tight_layout()\n",
        "plt.show()"
      ]
    },
    {
      "cell_type": "code",
      "execution_count": null,
      "metadata": {
        "id": "a78heARTg_sZ"
      },
      "outputs": [],
      "source": [
        "def getOrientation(pts, img):\n",
        "    sz = len(pts)\n",
        "    data_pts = np.empty((sz, 2), dtype=np.float64)\n",
        "    for i in range(data_pts.shape[0]):\n",
        "        data_pts[i,0] = pts[i,0,0]\n",
        "        data_pts[i,1] = pts[i,0,1]\n",
        "    # Perform PCA analysis\n",
        "    mean = np.empty((0))\n",
        "    mean, eigenvectors, eigenvalues = cv2.PCACompute2(data_pts, mean)\n",
        "    angle = math.atan2(eigenvectors[0,1], eigenvectors[0,0]) # orientation in radians\n",
        "\n",
        "    return angle"
      ]
    },
    {
      "cell_type": "code",
      "execution_count": null,
      "metadata": {
        "colab": {
          "base_uri": "https://localhost:8080/",
          "height": 513
        },
        "id": "nDca82VqeKaN",
        "outputId": "b63dc78e-e35a-4d42-ad15-d7f605c17d23"
      },
      "outputs": [],
      "source": [
        "# Find contours in the fingertip grayscale image\n",
        "contours, _ = cv2.findContours(fingertip_mask, cv2.RETR_LIST, cv2.CHAIN_APPROX_NONE)\n",
        "\n",
        "# Sort the contours by area\n",
        "contours = sorted(contours, key=cv2.contourArea, reverse=True)\n",
        "\n",
        "# Find the contour with the largest area\n",
        "largest_contour = contours[0]\n",
        "\n",
        "# Find the orientation of the largest contour\n",
        "angle = getOrientation(largest_contour, fingertip_gray)\n",
        "\n",
        "# If the angle is negative, make it positive\n",
        "if angle < 0:\n",
        "    angle = 90 + angle\n",
        "\n",
        "# Rotate the fingertip\n",
        "fingertip_rotated = imutils.rotate_bound(fingertip, angle)\n",
        "fingertip_gray_rotated = imutils.rotate_bound(fingertip_gray, angle)\n",
        "fingertip_mask_rotated = imutils.rotate_bound(fingertip_mask, angle)\n",
        "\n",
        "plt.figure(figsize=(10, 10))\n",
        "plt.subplot(1, 3, 1)\n",
        "plt.imshow(fingertip_rotated)\n",
        "plt.title('Original fingertip rotated')\n",
        "plt.axis('off')\n",
        "plt.subplot(1, 3, 2)\n",
        "plt.imshow(fingertip_gray_rotated, cmap=\"gray\")\n",
        "plt.title(\"Gray fingertip rotated\")\n",
        "plt.axis('off')\n",
        "plt.subplot(1, 3, 3)\n",
        "plt.imshow(fingertip_mask_rotated, cmap=\"gray\")\n",
        "plt.title(\"Binary Mask rotated\")\n",
        "plt.axis('off')\n",
        "plt.tight_layout()\n",
        "plt.show()"
      ]
    },
    {
      "cell_type": "markdown",
      "metadata": {
        "id": "4RdX4mBJeKaO"
      },
      "source": [
        "## Fingertip Enhancement"
      ]
    },
    {
      "cell_type": "code",
      "execution_count": null,
      "metadata": {
        "colab": {
          "base_uri": "https://localhost:8080/",
          "height": 394
        },
        "id": "QyrxurtQeKaO",
        "outputId": "ec793b56-831c-4c35-a35d-13958eafdca1"
      },
      "outputs": [],
      "source": [
        "# Normalize the image\n",
        "normalized = cv2.normalize(fingertip_gray_rotated, None, 0, 255, cv2.NORM_MINMAX)\n",
        "\n",
        "# Apply bilateral filter\n",
        "bilateral = cv2.bilateralFilter(normalized, 7, 50, 50)\n",
        "\n",
        "# Apply CLAHE\n",
        "clahe = cv2.createCLAHE(clipLimit=2.0, tileGridSize=(8, 8)).apply(bilateral)\n",
        "\n",
        "plt.figure(figsize=(10, 10))\n",
        "plt.subplot(1, 4, 1)\n",
        "plt.imshow(fingertip_gray_rotated, cmap=\"gray\")\n",
        "plt.title('Original fingertip rotated')\n",
        "plt.axis('off')\n",
        "plt.subplot(1, 4, 2)\n",
        "plt.imshow(normalized, cmap=\"gray\")\n",
        "plt.title(\"Normalized\")\n",
        "plt.axis('off')\n",
        "plt.subplot(1, 4, 3)\n",
        "plt.imshow(bilateral, cmap=\"gray\")\n",
        "plt.title(\"Bilateral\")\n",
        "plt.axis('off')\n",
        "plt.subplot(1, 4, 4)\n",
        "plt.imshow(clahe, cmap=\"gray\")\n",
        "plt.title(\"CLAHE\")\n",
        "plt.axis('off')\n",
        "plt.tight_layout()\n",
        "plt.show()\n",
        "\n",
        "fingertip_gray_rotated = clahe"
      ]
    },
    {
      "cell_type": "markdown",
      "metadata": {
        "id": "MiISHyyAeKaO"
      },
      "source": [
        "## Adaptive Thresholding"
      ]
    },
    {
      "cell_type": "code",
      "execution_count": null,
      "metadata": {
        "colab": {
          "base_uri": "https://localhost:8080/",
          "height": 507
        },
        "id": "Wn5AI-cMeKaO",
        "outputId": "e55700bd-bdc1-4005-ae56-c581263f0050"
      },
      "outputs": [],
      "source": [
        "plt.figure(figsize=(15, 5))\n",
        "plt.subplot(1, 2, 1)\n",
        "plt.imshow(fingertip_gray_rotated, cmap=\"gray\")\n",
        "plt.title(\"Fingertip Grayscale:\" + str(fingertip_gray_rotated.shape))\n",
        "\n",
        "plt.subplot(1, 2, 2)\n",
        "hist, bins = np.histogram(fingertip_gray_rotated.flatten(),256,[0,256])\n",
        "cdf = hist.cumsum()\n",
        "cdf_normalized = cdf * hist.max()/ cdf.max()\n",
        "\n",
        "plt.plot(cdf_normalized, color = 'b')\n",
        "plt.hist(fingertip_gray_rotated.flatten(),256,[0,256], color = 'r')\n",
        "plt.xlim([0,256])\n",
        "plt.legend(('cdf','histogram'), loc = 'upper left')\n",
        "plt.title(\"Histogram\")\n",
        "plt.tight_layout()\n",
        "plt.show()"
      ]
    },
    {
      "cell_type": "code",
      "execution_count": null,
      "metadata": {
        "colab": {
          "base_uri": "https://localhost:8080/",
          "height": 751
        },
        "id": "GH1zIMArhLaz",
        "outputId": "7b60b17a-0011-4ac2-9950-6e2f2bf50db3"
      },
      "outputs": [],
      "source": [
        "thresh_mean = cv2.adaptiveThreshold(fingertip_gray_rotated, 255, cv2.ADAPTIVE_THRESH_GAUSSIAN_C, cv2.THRESH_BINARY, 11, 2)\n",
        "\n",
        "plt.figure(figsize=(10, 10))\n",
        "plt.subplot(1, 2, 1)\n",
        "plt.imshow(fingertip_gray_rotated, cmap=\"gray\")\n",
        "plt.title('Original fingertip rotated')\n",
        "plt.axis('off')\n",
        "plt.subplot(1, 2, 2)\n",
        "plt.imshow(thresh_mean, cmap=\"gray\")\n",
        "plt.title(\"Adaptive threshold mean\")\n",
        "plt.axis('off')\n",
        "plt.tight_layout()\n",
        "plt.show()\n",
        "\n",
        "thresh = thresh_mean"
      ]
    },
    {
      "cell_type": "markdown",
      "metadata": {
        "id": "TpFS19O5eKaP"
      },
      "source": [
        "## Compute Gabor Filters (TO BE REVIEWED)"
      ]
    },
    {
      "cell_type": "code",
      "execution_count": null,
      "metadata": {
        "id": "Q4MJfjuMeKaP"
      },
      "outputs": [],
      "source": [
        "_sigma_conv = (3.0/2.0)/((6*math.log(10))**0.5)\n",
        "# sigma is adjusted according to the ridge period, so that the filter does not contain more than three effective peaks\n",
        "def _gabor_sigma(ridge_period):\n",
        "    return _sigma_conv * ridge_period\n",
        "\n",
        "def _gabor_size(ridge_period):\n",
        "    p = int(round(ridge_period * 2 + 1))\n",
        "    if p % 2 == 0:\n",
        "        p += 1\n",
        "    return (p, p)\n",
        "\n",
        "def gabor_kernel(period, orientation):\n",
        "    f = cv2.getGaborKernel(_gabor_size(period), _gabor_sigma(period), np.pi/2 - orientation, period, gamma = 1, psi = 0)\n",
        "    f /= f.sum()\n",
        "    f -= f.mean()\n",
        "    return f\n",
        "\n",
        "def from_amt_to_scan(image):\n",
        "    \"\"\"heavily from https://colab.research.google.com/drive/1u5X8Vg9nXWPEDFFtUwbkdbQxBh4hba_M\"\"\"\n",
        "\n",
        "    fingerprint = image\n",
        "\n",
        "    # Calculate the local gradient (using Sobel filters)\n",
        "    gx, gy = cv2.Sobel(fingerprint, cv2.CV_32F, 1, 0), cv2.Sobel(fingerprint, cv2.CV_32F, 0, 1)\n",
        "\n",
        "    # Calculate the magnitude of the gradient for each pixel\n",
        "    gx2, gy2 = gx**2, gy**2\n",
        "\n",
        "    W = (29, 29) # (23, 23)\n",
        "    gxx = cv2.boxFilter(gx2, -1, W, normalize = False)\n",
        "    gyy = cv2.boxFilter(gy2, -1, W, normalize = False)\n",
        "    gxy = cv2.boxFilter(gx * gy, -1, W, normalize = False)\n",
        "    gxx_gyy = gxx - gyy\n",
        "    gxy2 = 2 * gxy\n",
        "\n",
        "    orientations = (cv2.phase(gxx_gyy, -gxy2) + np.pi) / 2 # '-' to adjust for y axis direction\n",
        "\n",
        "    # _region = fingerprint[10:90,80:130]\n",
        "    center_h = fingerprint.shape[0]//3\n",
        "    center_w = fingerprint.shape[1]//2\n",
        "    #_region = fingerprint[center_h-40:center_h+40, center_w-25:center_w+25]\n",
        "    region = fingerprint[center_h-40:center_h+40, center_w+10:center_w+60]\n",
        "\n",
        "    # before computing the x-signature, the region is smoothed to reduce noise\n",
        "    smoothed = cv2.blur(region, (5,5), -1)\n",
        "    xs = np.sum(smoothed, 1) # the x-signature of the region\n",
        "\n",
        "    # Find the indices of the x-signature local maxima\n",
        "    local_maxima = np.nonzero(np.r_[False, xs[1:] > xs[:-1]] & np.r_[xs[:-1] >= xs[1:], False])[0]\n",
        "\n",
        "    # Calculate all the distances between consecutive peaks\n",
        "    distances = local_maxima[1:] - local_maxima[:-1]\n",
        "\n",
        "    # Estimate the ridge line period as the average of the above distances\n",
        "    ridge_period = np.average(distances)\n",
        "\n",
        "    # Create the filter bank\n",
        "    or_count = 8\n",
        "    gabor_bank = [gabor_kernel(ridge_period, o) for o in np.arange(0, np.pi, np.pi/or_count)]\n",
        "\n",
        "    # Filter the whole image with each filter\n",
        "    # Note that the negative image is actually used, to have white ridges on a black background as a result!!\n",
        "    nf = 255-fingerprint\n",
        "    all_filtered = np.array([cv2.filter2D(nf, cv2.CV_32F, f) for f in gabor_bank])\n",
        "\n",
        "    y_coords, x_coords = np.indices(fingerprint.shape)\n",
        "    # For each pixel, find the index of the closest orientation in the gabor bank\n",
        "    orientation_idx = np.round(((orientations % np.pi) / np.pi) * or_count).astype(np.int32) % or_count\n",
        "    # Take the corresponding convolution result for each pixel, to assemble the final result\n",
        "    filtered = all_filtered[orientation_idx, y_coords, x_coords]\n",
        "    # Convert to gray scale and apply the mask\n",
        "    enhanced = np.clip(filtered, 0, 255).astype(np.uint8)\n",
        "\n",
        "    return enhanced"
      ]
    },
    {
      "cell_type": "code",
      "execution_count": null,
      "metadata": {
        "colab": {
          "base_uri": "https://localhost:8080/",
          "height": 750
        },
        "id": "5n4BYrVChR7D",
        "outputId": "7a77d116-b628-4409-a43c-6c9c900a4eeb"
      },
      "outputs": [],
      "source": [
        "thresh_resized = imutils.resize(thresh, width=400)\n",
        "# GABOR_IMAGE_SHAPE = (400, 840)\n",
        "# thresh_resized = cv2.resize(thresh, GABOR_IMAGE_SHAPE, interpolation=cv2.INTER_AREA)\n",
        "enhanced_gabor = from_amt_to_scan(thresh_resized)\n",
        "\n",
        "plt.figure(figsize=(10, 10))\n",
        "plt.subplot(1, 2, 1)\n",
        "plt.imshow(thresh_resized, cmap=\"gray\")\n",
        "plt.title('Adaptive threshold resized: ' + str(thresh_resized.shape))\n",
        "plt.axis('off')\n",
        "plt.subplot(1, 2, 2)\n",
        "plt.imshow(enhanced_gabor, cmap=\"gray\")\n",
        "plt.title(\"Fingerprint Enhanced with Gabor filter\")\n",
        "plt.axis('off')\n",
        "plt.tight_layout()\n",
        "plt.show()"
      ]
    },
    {
      "cell_type": "code",
      "execution_count": null,
      "metadata": {
        "colab": {
          "base_uri": "https://localhost:8080/",
          "height": 750
        },
        "id": "JeIP53F9hXvk",
        "outputId": "4aca1247-c371-4c93-8295-5285ab01a0b9"
      },
      "outputs": [],
      "source": [
        "enhanced_fingerprint = fingerprint_enhancer.enhance_Fingerprint(enhanced_gabor)\n",
        "\n",
        "plt.figure(figsize=(10, 10))\n",
        "plt.subplot(1, 2, 1)\n",
        "plt.imshow(enhanced_gabor, cmap=\"gray\")\n",
        "plt.title('Enhanced Gabor')\n",
        "plt.axis('off')\n",
        "plt.subplot(1, 2, 2)\n",
        "plt.imshow(enhanced_fingerprint, cmap=\"gray\")\n",
        "plt.title(\"Enhanced Fingerprint\")\n",
        "plt.axis('off')\n",
        "plt.tight_layout()\n",
        "plt.show()"
      ]
    },
    {
      "cell_type": "markdown",
      "metadata": {
        "id": "Wbl-mdSSeKaQ"
      },
      "source": [
        "## Fingerprint Feature Extractor"
      ]
    },
    {
      "cell_type": "code",
      "execution_count": null,
      "metadata": {
        "colab": {
          "base_uri": "https://localhost:8080/"
        },
        "id": "BRroAZ6jeKaQ",
        "outputId": "e99da5c3-d527-4907-d0cc-5103a3e39ccf"
      },
      "outputs": [],
      "source": [
        "terminations, bifurcations = fingerprint_feature_extractor.extract_minutiae_features(\n",
        "    enhanced_fingerprint,\n",
        "    spuriousMinutiaeThresh=25,\n",
        "    showResult=False,\n",
        "    saveResult=True\n",
        ")\n",
        "print(f'Terminations: {len(terminations)}')\n",
        "print(f'Bifurcations: {len(bifurcations)}')"
      ]
    }
  ],
  "metadata": {
    "accelerator": "GPU",
    "colab": {
      "gpuType": "T4",
      "provenance": []
    },
    "kernelspec": {
      "display_name": "Python 3",
      "name": "python3"
    },
    "language_info": {
      "codemirror_mode": {
        "name": "ipython",
        "version": 3
      },
      "file_extension": ".py",
      "mimetype": "text/x-python",
      "name": "python",
      "nbconvert_exporter": "python",
      "pygments_lexer": "ipython3",
      "version": "3.11.7"
    }
  },
  "nbformat": 4,
  "nbformat_minor": 0
}
