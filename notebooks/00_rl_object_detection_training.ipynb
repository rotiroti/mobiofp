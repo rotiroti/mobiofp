{
 "cells": [
  {
   "cell_type": "markdown",
   "metadata": {},
   "source": [
    "# MoBioFP - Model Training For Fingertip Object Detection"
   ]
  },
  {
   "cell_type": "code",
   "execution_count": null,
   "metadata": {},
   "outputs": [],
   "source": [
    "from ultralytics import YOLO, settings\n",
    "from pathlib import Path"
   ]
  },
  {
   "cell_type": "markdown",
   "metadata": {},
   "source": [
    "## Global constants"
   ]
  },
  {
   "cell_type": "code",
   "execution_count": null,
   "metadata": {},
   "outputs": [],
   "source": [
    "EPOCHS = 100\n",
    "IMAGE_SIZE = 640\n",
    "\n",
    "# Path to the fingertip256obj dataset YAML file.\n",
    "# Assuming the dataset was downloaded and extracted in the root directory of the project.\n",
    "DATASET_YAML_FILE = \"../fingertip256obj/fingertip256obj.yaml\"\n",
    "\n",
    "# Ultralytics dataset directory.\n",
    "# This should be the absolute path to the root directory of the project plus the \"datasets\" directory.\n",
    "ROOT_DIR = Path(\"ROOT_DIR\")\n",
    "DATASET_DIR_PATH = ROOT_DIR / \"datasets\""
   ]
  },
  {
   "cell_type": "markdown",
   "metadata": {},
   "source": [
    "## Modify Ultralytics default dataset directory"
   ]
  },
  {
   "cell_type": "code",
   "execution_count": null,
   "metadata": {},
   "outputs": [],
   "source": [
    "settings.update({\"datasets_dir\": str(DATASET_DIR_PATH)})\n",
    "print(settings[\"datasets_dir\"])"
   ]
  },
  {
   "cell_type": "markdown",
   "metadata": {},
   "source": [
    "## Train the YOLOv8n model"
   ]
  },
  {
   "cell_type": "code",
   "execution_count": null,
   "metadata": {},
   "outputs": [],
   "source": [
    "# Download the dataset for training the YOLOv8n model from Google Drive\n",
    "# and unzip in the root directory of the project.\n",
    "\n",
    "# Load a model\n",
    "model = YOLO(\"yolov8n.pt\")\n",
    "\n",
    "# Train the model\n",
    "# results = model.train(data=DATASET_YAML_FILE, epochs=EPOCHS, imgsz=IMAGE_SIZE)\n",
    "\n",
    "# Train the model (Apple M1 and M2 MPS)\n",
    "results = model.train(data=DATASET_YAML_FILE, epochs=EPOCHS, imgsz=IMAGE_SIZE, device=\"mps\")"
   ]
  },
  {
   "cell_type": "markdown",
   "metadata": {},
   "source": [
    "## Reset Ultralytics settings to default values"
   ]
  },
  {
   "cell_type": "code",
   "execution_count": null,
   "metadata": {},
   "outputs": [],
   "source": [
    "settings.reset()\n",
    "print(settings)"
   ]
  }
 ],
 "metadata": {
  "kernelspec": {
   "display_name": "jolene3.9",
   "language": "python",
   "name": "python3"
  },
  "language_info": {
   "codemirror_mode": {
    "name": "ipython",
    "version": 3
   },
   "file_extension": ".py",
   "mimetype": "text/x-python",
   "name": "python",
   "nbconvert_exporter": "python",
   "pygments_lexer": "ipython3",
   "version": "3.11.7"
  }
 },
 "nbformat": 4,
 "nbformat_minor": 2
}
