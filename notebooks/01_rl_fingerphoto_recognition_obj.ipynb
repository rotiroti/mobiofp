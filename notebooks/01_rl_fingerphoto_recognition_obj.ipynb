{
 "cells": [
  {
   "cell_type": "markdown",
   "metadata": {},
   "source": [
    "# MoBioFP - Fingerphoto Recognition (Fingertip Object Detection)"
   ]
  },
  {
   "cell_type": "code",
   "execution_count": null,
   "metadata": {},
   "outputs": [],
   "source": [
    "import cv2\n",
    "\n",
    "from ultralytics import YOLO\n",
    "from mobiofp.utils import (\n",
    "    fingertip_enhancement,\n",
    "    fingertip_thresholding,\n",
    "    fingerprint_mapping,\n",
    "    fingerprint_enhancement,\n",
    ")\n",
    "from mobiofp.background import BackgroundRemoval\n",
    "from shared import read_images, show_images"
   ]
  },
  {
   "cell_type": "markdown",
   "metadata": {},
   "source": [
    "## Define global constants"
   ]
  },
  {
   "cell_type": "code",
   "execution_count": null,
   "metadata": {},
   "outputs": [],
   "source": [
    "SAMPLE_DIR = \"../data/raw/samples\"\n",
    "PROCESSED_DIR = \"../data/processed/samples/detection\"\n",
    "\n",
    "# Assume the model is already downloaded and placed in the models directory.\n",
    "# Use one of the following models based on your system architecture.\n",
    "\n",
    "# MODEL_CHECKPOINT = \"../models/fingertip-obj-amd64.pt\" # For AMD64\n",
    "MODEL_CHECKPOINT = \"../models/fingertip-obj-arm64.pt\"  # For ARM64"
   ]
  },
  {
   "cell_type": "markdown",
   "metadata": {},
   "source": [
    "## Read sample images"
   ]
  },
  {
   "cell_type": "code",
   "execution_count": null,
   "metadata": {},
   "outputs": [],
   "source": [
    "images, images_titles = read_images(SAMPLE_DIR)\n",
    "show_images(images, images_titles, fig_size=15, sup_title=\"Sample Fingerphoto Images\")"
   ]
  },
  {
   "cell_type": "markdown",
   "metadata": {},
   "source": [
    "## Fingertip detection using YOLOv8n pre-trained model"
   ]
  },
  {
   "cell_type": "code",
   "execution_count": null,
   "metadata": {},
   "outputs": [],
   "source": [
    "model = YOLO(MODEL_CHECKPOINT)\n",
    "model.info()\n",
    "results = model(images, stream=True, max_det=1)\n",
    "\n",
    "predicted_images = []\n",
    "predicted_images_titles = []\n",
    "bbox_coords = []\n",
    "fingertip_images = []\n",
    "fingertip_images_titles = []\n",
    "\n",
    "for result, title in zip(results, images_titles):\n",
    "    boxes = result.boxes.xyxy.tolist()\n",
    "    if not boxes:\n",
    "        continue\n",
    "    boxes = [int(coord) for coord in boxes[0]]\n",
    "    bbox_coords.append(boxes)\n",
    "\n",
    "    original = result.orig_img\n",
    "    x1, y1, x2, y2 = boxes\n",
    "    fingertip = original[y1:y2, x1:x2]\n",
    "    fingertip_images.append(fingertip)\n",
    "    fingertip_images_titles.append(title)\n",
    "\n",
    "    predicted = result.plot()\n",
    "    predicted_images.append(predicted)\n",
    "    predicted_images_titles.append(title)\n",
    "\n",
    "show_images(\n",
    "    predicted_images, predicted_images_titles, fig_size=15, sup_title=\"YOLOv8n Fingertip Detection\"\n",
    ")\n",
    "show_images(fingertip_images, fingertip_images_titles, sup_title=\"Fingertip Images\")"
   ]
  },
  {
   "cell_type": "code",
   "execution_count": null,
   "metadata": {},
   "outputs": [],
   "source": [
    "remover = BackgroundRemoval()\n",
    "fingertip_masks = [remover.apply(fingertip) for fingertip in fingertip_images]\n",
    "\n",
    "show_images(fingertip_masks, fingertip_images_titles, sup_title=\"Fingertip Masks\")"
   ]
  },
  {
   "cell_type": "markdown",
   "metadata": {},
   "source": [
    "## Fingertip Enhancement"
   ]
  },
  {
   "cell_type": "code",
   "execution_count": null,
   "metadata": {},
   "outputs": [],
   "source": [
    "gray_images = [cv2.cvtColor(image, cv2.COLOR_BGR2GRAY) for image in fingertip_images]\n",
    "show_images(\n",
    "    gray_images, fingertip_images_titles, cmap=\"gray\", sup_title=\"Grayscale Fingertip Images\"\n",
    ")"
   ]
  },
  {
   "cell_type": "code",
   "execution_count": null,
   "metadata": {},
   "outputs": [],
   "source": [
    "fingertip_enhanced_images = [fingertip_enhancement(image) for image in gray_images]\n",
    "show_images(\n",
    "    fingertip_enhanced_images, fingertip_images_titles, sup_title=\"Fingertip Enhanced Images\"\n",
    ")"
   ]
  },
  {
   "cell_type": "markdown",
   "metadata": {},
   "source": [
    "## Fingertip Binarization"
   ]
  },
  {
   "cell_type": "code",
   "execution_count": null,
   "metadata": {},
   "outputs": [],
   "source": [
    "fingertip_thresh_images = [\n",
    "    cv2.bitwise_and(image, image, mask=mask)\n",
    "    for image, mask in zip(fingertip_enhanced_images, fingertip_masks)\n",
    "]\n",
    "fingertip_thresh_images = [\n",
    "    fingertip_thresholding(image, blockSize=19) for image in fingertip_thresh_images\n",
    "]\n",
    "show_images(\n",
    "    fingertip_thresh_images,\n",
    "    fingertip_images_titles,\n",
    "    cmap=\"gray\",\n",
    "    sup_title=\"Fingertip Thresholded Images\",\n",
    ")"
   ]
  },
  {
   "cell_type": "markdown",
   "metadata": {},
   "source": [
    "## Fingertip to Fingeprint Conversion\n",
    "\n",
    "The function `fingerprint_mapping()` takes an fingertip-enhanced and converts it into a fingerprint image.\n",
    "It does this by:\n",
    "\n",
    "- Resizing the image.\n",
    "- Calculating the local gradient of the image using Sobel filters.\n",
    "- Calculating the orientation of the ridges in the fingerprint.\n",
    "- Extracting a region of the image and smoothing it to reduce noise.\n",
    "- Calculating the x-signature of the region and finding its local maxima to estimate the ridge period.\n",
    "- Creating a bank of Gabor filters with different orientations.\n",
    "- Filtering the image with each filter in the bank.\n",
    "- Assembling the final result by taking the corresponding convolution result for each pixel based on the closest orientation in the Gabor bank.\n",
    "- Converting the result to grayscale."
   ]
  },
  {
   "cell_type": "code",
   "execution_count": null,
   "metadata": {},
   "outputs": [],
   "source": [
    "fingerprints, fingerprint_titles = [], []\n",
    "\n",
    "for image, title in zip(fingertip_thresh_images, fingertip_images_titles):\n",
    "    fingerprint = fingerprint_mapping(image)\n",
    "    if fingerprint is not None:\n",
    "        fingerprints.append(fingerprint)\n",
    "        fingerprint_titles.append(title)\n",
    "\n",
    "show_images(fingerprints, fingerprint_titles, sup_title=\"Fingerprint Images\")"
   ]
  },
  {
   "cell_type": "code",
   "execution_count": null,
   "metadata": {},
   "outputs": [],
   "source": [
    "fingerprint_enhanced_images = [fingerprint_enhancement(fingerprint) for fingerprint in fingerprints]\n",
    "\n",
    "show_images(\n",
    "    fingerprint_enhanced_images, fingerprint_titles, sup_title=\"Fingerprint Enhanced Images\"\n",
    ")"
   ]
  },
  {
   "cell_type": "markdown",
   "metadata": {},
   "source": [
    "## Thinning"
   ]
  },
  {
   "cell_type": "code",
   "execution_count": null,
   "metadata": {},
   "outputs": [],
   "source": [
    "fingerprint_thinning_images = [\n",
    "    cv2.ximgproc.thinning(image) for image in fingerprint_enhanced_images\n",
    "]\n",
    "\n",
    "show_images(\n",
    "    fingerprint_thinning_images,\n",
    "    fingerprint_titles,\n",
    "    sup_title=\"Fingerprint Thinned Images\",\n",
    ")"
   ]
  }
 ],
 "metadata": {
  "kernelspec": {
   "display_name": "jolene3.9",
   "language": "python",
   "name": "python3"
  },
  "language_info": {
   "codemirror_mode": {
    "name": "ipython",
    "version": 3
   },
   "file_extension": ".py",
   "mimetype": "text/x-python",
   "name": "python",
   "nbconvert_exporter": "python",
   "pygments_lexer": "ipython3",
   "version": "3.11.8"
  }
 },
 "nbformat": 4,
 "nbformat_minor": 2
}
