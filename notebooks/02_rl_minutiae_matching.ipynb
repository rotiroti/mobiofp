{
 "cells": [
  {
   "cell_type": "markdown",
   "metadata": {},
   "source": [
    "# MoBioFP - Matching (Minutiae-based method)"
   ]
  },
  {
   "cell_type": "markdown",
   "metadata": {},
   "source": [
    "## Import Python Libraries"
   ]
  },
  {
   "cell_type": "code",
   "execution_count": null,
   "metadata": {},
   "outputs": [],
   "source": [
    "import cv2\n",
    "import mobiofp\n",
    "import numpy as np\n",
    "import matplotlib.pyplot as plt\n",
    "import fingerprint_feature_extractor as ffe"
   ]
  },
  {
   "cell_type": "markdown",
   "metadata": {},
   "source": [
    "## Define Global Constants"
   ]
  },
  {
   "cell_type": "code",
   "execution_count": null,
   "metadata": {},
   "outputs": [],
   "source": [
    "DATA_DIR = \"../data/processed/\"\n",
    "GALLERY_IMAGE = DATA_DIR + \"/\" + \"unet/1_i_1_w_1.png\"\n",
    "PROBE_IMAGE = DATA_DIR + \"/\" + \"unet/1_o_1_w_1.png\""
   ]
  },
  {
   "cell_type": "markdown",
   "metadata": {},
   "source": [
    "## Load fingerprint images"
   ]
  },
  {
   "cell_type": "code",
   "execution_count": null,
   "metadata": {},
   "outputs": [],
   "source": [
    "gallery = cv2.imread(GALLERY_IMAGE, cv2.IMREAD_GRAYSCALE)\n",
    "probe = cv2.imread(PROBE_IMAGE, cv2.IMREAD_GRAYSCALE)"
   ]
  },
  {
   "cell_type": "markdown",
   "metadata": {},
   "source": [
    "## Extract minutiae"
   ]
  },
  {
   "cell_type": "code",
   "execution_count": null,
   "metadata": {},
   "outputs": [],
   "source": [
    "import math\n",
    "import skimage\n",
    "\n",
    "# # Utility function to draw a set of minutiae over an image\n",
    "# def draw_minutiae(fingerprint, minutiae, termination_color = (255,0,0), bifurcation_color = (0,0,255)):\n",
    "#     res = cv.cvtColor(fingerprint, cv.COLOR_GRAY2BGR)\n",
    "\n",
    "#     for x, y, t, *d in minutiae:\n",
    "#         color = termination_color if t else bifurcation_color\n",
    "#         if len(d)==0:\n",
    "#             cv.drawMarker(res, (x,y), color, cv.MARKER_CROSS, 8)\n",
    "#         else:\n",
    "#             d = d[0]\n",
    "#             ox = int(round(math.cos(d) * 7))\n",
    "#             oy = int(round(math.sin(d) * 7))\n",
    "#             cv.circle(res, (x,y), 3, color, 1, cv.LINE_AA)\n",
    "#             cv.line(res, (x,y), (x+ox,y-oy), color, 1, cv.LINE_AA)\n",
    "#     return res\n",
    "\n",
    "\n",
    "# def minutiae_numpy(minutiae):\n",
    "#     return np.array([[int(m.locX), int(m.locY), float(m.Orientation[0]), m.Type] for m in minutiae])\n",
    "def MinutiaeFeature_to_numpy(m):\n",
    "    x, y, angle, t = m.locX, m.locY, m.Orientation[0], m.Type\n",
    "    return np.array([int(x), int(y), angle, t])"
   ]
  },
  {
   "cell_type": "code",
   "execution_count": null,
   "metadata": {},
   "outputs": [],
   "source": [
    "# Extract minutiae from the fingerprints\n",
    "terminations_g, bifurcations_g = ffe.extract_minutiae_features(gallery, 25)\n",
    "terminations_p, bifurcations_p = ffe.extract_minutiae_features(probe, 25)\n",
    "\n",
    "print(\n",
    "    f\"Found {len(terminations_g)} terminations and {len(bifurcations_g)} bifurcations in Gallery fingerprint; total {len(terminations_g) + len(bifurcations_g)} minutiae\"\n",
    ")\n",
    "print(\n",
    "    f\"Found {len(terminations_p)} terminations and {len(bifurcations_p)} bifurcations in Probe fingerprint; total {len(terminations_p) + len(bifurcations_p)} minutiae\"\n",
    ")\n",
    "\n",
    "minutiae = terminations_g[0]\n",
    "print(MinutiaeFeature_to_numpy(minutiae))\n",
    "\n",
    "print(np.array([1, 2, 3, 4]))\n",
    "# minutiae_g = minutiae_numpy(np.concatenate(ffe.extract_minutiae_features(gallery, 0), axis=0))\n",
    "# minutiae_p = minutiae_numpy(np.concatenate(ffe.extract_minutiae_features(probe, 0), axis=0))\n",
    "\n",
    "# type(minutiae_g[0][0])\n",
    "# for m in minutiae_g:\n",
    "#     print(m)\n",
    "\n",
    "# print(f\"Found {len(minutiae_g)} minutiae in Gallery fingerprint\")\n",
    "# print(f\"Found {len(minutiae_p)} minutiae in Probe fingerprint\")\n",
    "\n",
    "# # Convert minutiae to numpy arrays\n",
    "# terminations_g, bifurcations_g = minutiae_numpy(terminations_g), minutiae_numpy(bifurcations_g)\n",
    "# terminations_p, bifurcations_p = minutiae_numpy(terminations_p), minutiae_numpy(bifurcations_p)\n",
    "\n",
    "# # Create a single array of minutiae for each fingerprint\n",
    "# minutiae_g = np.concatenate((terminations_g, bifurcations_g), axis=0)\n",
    "# minutiae_p = np.concatenate((terminations_p, bifurcations_p), axis=0)\n",
    "\n",
    "# print(f\"Found {len(terminations_g)} terminations and {len(bifurcations_g)} bifurcations in Gallery fingerprint; total {len(terminations_g) + len(bifurcations_g)} minutiae\")\n",
    "# print(f\"Found {len(terminations_p)} terminations and {len(bifurcations_p)} bifurcations in Probe fingerprint; total {len(terminations_p) + len(bifurcations_p)} minutiae\")"
   ]
  }
 ],
 "metadata": {
  "kernelspec": {
   "display_name": "jolene",
   "language": "python",
   "name": "python3"
  },
  "language_info": {
   "codemirror_mode": {
    "name": "ipython",
    "version": 3
   },
   "file_extension": ".py",
   "mimetype": "text/x-python",
   "name": "python",
   "nbconvert_exporter": "python",
   "pygments_lexer": "ipython3",
   "version": "3.11.7"
  }
 },
 "nbformat": 4,
 "nbformat_minor": 2
}
